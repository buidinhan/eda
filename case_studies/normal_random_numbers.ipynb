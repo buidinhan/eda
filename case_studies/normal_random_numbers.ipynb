{
 "cells": [
  {
   "cell_type": "markdown",
   "metadata": {},
   "source": [
    "Source: https://www.itl.nist.gov/div898/handbook/eda/section4/eda4.htm"
   ]
  },
  {
   "cell_type": "markdown",
   "metadata": {},
   "source": [
    "## Preparation"
   ]
  },
  {
   "cell_type": "code",
   "execution_count": 1,
   "metadata": {},
   "outputs": [
    {
     "data": {
      "text/plain": [
       "'C:\\\\Users\\\\An PC\\\\jupyter\\\\eda'"
      ]
     },
     "execution_count": 1,
     "metadata": {},
     "output_type": "execute_result"
    }
   ],
   "source": [
    "import os\n",
    "os.chdir(\"..\")\n",
    "os.getcwd()"
   ]
  },
  {
   "cell_type": "code",
   "execution_count": 2,
   "metadata": {},
   "outputs": [],
   "source": [
    "import pandas as pd\n",
    "import numpy as np\n",
    "import matplotlib.pyplot as plt\n",
    "from scipy import stats\n",
    "import statsmodels.api as sm\n",
    "\n",
    "from utils import datasets\n",
    "from utils import calculations\n",
    "from utils.plotting import show_and_save_plot\n",
    "from plots import four_plot, run_sequence_plot, histogram, lag_plot, probability_plot, \\\n",
    "                  autocorrelation_plot"
   ]
  },
  {
   "cell_type": "markdown",
   "metadata": {},
   "source": [
    "---"
   ]
  },
  {
   "cell_type": "markdown",
   "metadata": {},
   "source": [
    "# Normal Random Numbers"
   ]
  },
  {
   "cell_type": "markdown",
   "metadata": {},
   "source": [
    "This example illustrates the univariate analysis of a set of normal random numbers.\n",
    "1. Background and Data\n",
    "2. Graphical Output and Interpretation\n",
    "3. Quantitative Output and Interpretation"
   ]
  },
  {
   "cell_type": "markdown",
   "metadata": {},
   "source": [
    "---"
   ]
  },
  {
   "cell_type": "markdown",
   "metadata": {},
   "source": [
    "## Background and Data\n",
    "### Generation \n",
    "The normal random numbers used in this case study are from a Rand Corporation publication.\n",
    "\n",
    "The motivation for studying a set of normal random numbers is to illustrate the ideal case where all four underlying assumptions hold.\n",
    "### Data source\n",
    "https://www.itl.nist.gov/div898/handbook/datasets/RANDN.DAT"
   ]
  },
  {
   "cell_type": "code",
   "execution_count": 3,
   "metadata": {},
   "outputs": [
    {
     "data": {
      "text/html": [
       "<div>\n",
       "<style scoped>\n",
       "    .dataframe tbody tr th:only-of-type {\n",
       "        vertical-align: middle;\n",
       "    }\n",
       "\n",
       "    .dataframe tbody tr th {\n",
       "        vertical-align: top;\n",
       "    }\n",
       "\n",
       "    .dataframe thead th {\n",
       "        text-align: right;\n",
       "    }\n",
       "</style>\n",
       "<table border=\"1\" class=\"dataframe\">\n",
       "  <thead>\n",
       "    <tr style=\"text-align: right;\">\n",
       "      <th></th>\n",
       "      <th>y</th>\n",
       "    </tr>\n",
       "  </thead>\n",
       "  <tbody>\n",
       "    <tr>\n",
       "      <td>0</td>\n",
       "      <td>-1.276</td>\n",
       "    </tr>\n",
       "    <tr>\n",
       "      <td>1</td>\n",
       "      <td>-1.218</td>\n",
       "    </tr>\n",
       "    <tr>\n",
       "      <td>2</td>\n",
       "      <td>-0.453</td>\n",
       "    </tr>\n",
       "    <tr>\n",
       "      <td>3</td>\n",
       "      <td>-0.350</td>\n",
       "    </tr>\n",
       "    <tr>\n",
       "      <td>4</td>\n",
       "      <td>0.723</td>\n",
       "    </tr>\n",
       "  </tbody>\n",
       "</table>\n",
       "</div>"
      ],
      "text/plain": [
       "       y\n",
       "0 -1.276\n",
       "1 -1.218\n",
       "2 -0.453\n",
       "3 -0.350\n",
       "4  0.723"
      ]
     },
     "execution_count": 3,
     "metadata": {},
     "output_type": "execute_result"
    }
   ],
   "source": [
    "df = datasets.load_normal_random_numbers()\n",
    "df.head()"
   ]
  },
  {
   "cell_type": "markdown",
   "metadata": {},
   "source": [
    "---"
   ]
  },
  {
   "cell_type": "markdown",
   "metadata": {},
   "source": [
    "## Graphical Output and Interpretation\n",
    "### Goal\n",
    "The goal of this analysis is threefold:\n",
    "1. Determine if the univariate model: $Y_i=C+E_i$ is appropriate and valid.\n",
    "2. Determine if the typical underlying assumptions for an \"in control\" measurement process are valid. These assumptions are:\n",
    "    * random drawings;\n",
    "    * from a fixed distribution;\n",
    "    * with the distribution having a fixed location; and\n",
    "    * the distribution having a fixed scale. \n",
    "3. Determine if the confidence interval $\\bar{Y}\\pm\\frac{2s}{\\sqrt{N}}$ is appropriate and valid where $s$ is the standard deviation of the original data."
   ]
  },
  {
   "cell_type": "markdown",
   "metadata": {},
   "source": [
    "### 4-Plot of Data"
   ]
  },
  {
   "cell_type": "code",
   "execution_count": 4,
   "metadata": {},
   "outputs": [],
   "source": [
    "def four_plot(series, main_title=\"4-PLOT\", show=True, save=False,\n",
    "              run_kws=None, lag_kws=None, hist_kws=None, prob_kws=None):\n",
    "\n",
    "    fig, axes = plt.subplots(nrows=2, ncols=2,\n",
    "                             gridspec_kw={\n",
    "                                 \"left\": 0.1, \"right\": 0.98,\n",
    "                                 \"top\": 0.9, \"bottom\": 0.1,\n",
    "                                 \"wspace\": 0.3, \"hspace\": 0.3,\n",
    "                                 },\n",
    "                             figsize=(7, 8))\n",
    "    rsp, lag = axes[0]\n",
    "    hist, prob = axes[1]\n",
    "    \n",
    "    # Run Sequence Plot\n",
    "    run_kws = run_kws if run_kws is not None else {}\n",
    "    clearance = (max(series)-min(series)) * 1/10\n",
    "    y_lim = (min(series)-clearance, max(series)+clearance)\n",
    "    run_sequence_plot(series, y_lim=y_lim, ax=rsp, show=False, **run_kws)\n",
    "\n",
    "    # Lag Plot\n",
    "    lag_kws = lag_kws if lag_kws is not None else {}\n",
    "    lag_plot(series, ax=lag, show=False, **lag_kws)\n",
    "    \n",
    "    # Histogram\n",
    "    hist_kws = hist_kws if hist_kws is not None else {}\n",
    "    histogram(series, ax=hist, show=False, **hist_kws)\n",
    "\n",
    "    # Probability Plot\n",
    "    prob_kws = prob_kws if prob_kws is not None else {}\n",
    "    probability_plot(series, ax=prob, show=False, **prob_kws)\n",
    "    \n",
    "    fig.suptitle(main_title)\n",
    "    \n",
    "    show_and_save_plot(show=show, save=save, filename=\"4-plot.png\")"
   ]
  },
  {
   "cell_type": "code",
   "execution_count": 5,
   "metadata": {},
   "outputs": [
    {
     "data": {
      "image/png": "[encoded data removed]",
      "text/plain": [
       "<Figure size 504x576 with 4 Axes>"
      ]
     },
     "metadata": {
      "needs_background": "light"
     },
     "output_type": "display_data"
    }
   ],
   "source": [
    "four_plot(df[\"y\"], main_title=\"Normal Random Numbers: 4-Plot\")"
   ]
  },
  {
   "cell_type": "markdown",
   "metadata": {},
   "source": [
    "### Interpretation\n",
    "The assumptions are addressed by the graphics shown above:\n",
    "1. The run sequence plot (upper left) indicates that the data do not have any significant shifts in location or scale over time. The run sequence plot does not show any obvious outliers.\n",
    "2. The lag plot (upper right) does not indicate any non-random pattern in the data.\n",
    "3. The histogram (lower left) shows that the data are reasonably symmetric, there do not appear to be significant outliers in the tails, and that it is reasonable to assume that the data are from approximately a normal distribution.\n",
    "4. The normal probability plot (lower right) verifies that an assumption of normality is in fact reasonable. \n",
    "\n",
    "From the above plots, we conclude that the underlying assumptions are valid and the data follow approximately a normal distribution. Therefore, the confidence interval form given previously is appropriate for quantifying the uncertainty of the population mean. The numerical values for this model are given in the Quantitative Output and Interpretation section. "
   ]
  },
  {
   "cell_type": "markdown",
   "metadata": {},
   "source": [
    "### Individual Plots\n",
    "Although it is usually not necessary, the plots can be generated individually to give more detail. "
   ]
  },
  {
   "cell_type": "markdown",
   "metadata": {},
   "source": [
    "#### Run Sequence Plot"
   ]
  },
  {
   "cell_type": "code",
   "execution_count": 6,
   "metadata": {},
   "outputs": [
    {
     "data": {
      "image/png": "[encoded data removed]",
      "text/plain": [
       "<Figure size 432x288 with 1 Axes>"
      ]
     },
     "metadata": {
      "needs_background": "light"
     },
     "output_type": "display_data"
    }
   ],
   "source": [
    "run_sequence_plot(df[\"y\"], y_label=\"y\")"
   ]
  },
  {
   "cell_type": "markdown",
   "metadata": {},
   "source": [
    "#### Lag Plot"
   ]
  },
  {
   "cell_type": "code",
   "execution_count": 7,
   "metadata": {},
   "outputs": [
    {
     "data": {
      "image/png": "[encoded data removed]",
      "text/plain": [
       "<Figure size 432x288 with 1 Axes>"
      ]
     },
     "metadata": {
      "needs_background": "light"
     },
     "output_type": "display_data"
    }
   ],
   "source": [
    "lag_plot(df[\"y\"])"
   ]
  },
  {
   "cell_type": "markdown",
   "metadata": {},
   "source": [
    "#### Histogram (with overlaid Normal PDF)"
   ]
  },
  {
   "cell_type": "code",
   "execution_count": 8,
   "metadata": {},
   "outputs": [
    {
     "data": {
      "image/png": "[encoded data removed]",
      "text/plain": [
       "<Figure size 432x288 with 2 Axes>"
      ]
     },
     "metadata": {
      "needs_background": "light"
     },
     "output_type": "display_data"
    },
    {
     "data": {
      "text/plain": [
       "(-0.002936000000000014, 1.0210411813889704, 6.083)"
      ]
     },
     "execution_count": 8,
     "metadata": {},
     "output_type": "execute_result"
    }
   ],
   "source": [
    "histogram(df[\"y\"], bins=20, x_label=\"y\", plot_pdf=True, show_statistics=True)"
   ]
  },
  {
   "cell_type": "markdown",
   "metadata": {},
   "source": [
    "#### Normal Probability Plot "
   ]
  },
  {
   "cell_type": "code",
   "execution_count": 9,
   "metadata": {},
   "outputs": [
    {
     "data": {
      "image/png": "[encoded data removed]",
      "text/plain": [
       "<Figure size 432x288 with 1 Axes>"
      ]
     },
     "metadata": {
      "needs_background": "light"
     },
     "output_type": "display_data"
    }
   ],
   "source": [
    "_, _ = probability_plot(df[\"y\"], show_fitting=True)"
   ]
  },
  {
   "cell_type": "markdown",
   "metadata": {},
   "source": [
    "---"
   ]
  },
  {
   "cell_type": "markdown",
   "metadata": {},
   "source": [
    "## Quantitative Output and Interpretation"
   ]
  },
  {
   "cell_type": "markdown",
   "metadata": {},
   "source": [
    "### Summary Statistics\n",
    "As a first step in the analysis, common summary statistics are computed from the data."
   ]
  },
  {
   "cell_type": "code",
   "execution_count": 10,
   "metadata": {},
   "outputs": [
    {
     "data": {
      "text/html": [
       "<div>\n",
       "<style scoped>\n",
       "    .dataframe tbody tr th:only-of-type {\n",
       "        vertical-align: middle;\n",
       "    }\n",
       "\n",
       "    .dataframe tbody tr th {\n",
       "        vertical-align: top;\n",
       "    }\n",
       "\n",
       "    .dataframe thead th {\n",
       "        text-align: right;\n",
       "    }\n",
       "</style>\n",
       "<table border=\"1\" class=\"dataframe\">\n",
       "  <thead>\n",
       "    <tr style=\"text-align: right;\">\n",
       "      <th></th>\n",
       "      <th>y</th>\n",
       "    </tr>\n",
       "  </thead>\n",
       "  <tbody>\n",
       "    <tr>\n",
       "      <td>count</td>\n",
       "      <td>500.000000</td>\n",
       "    </tr>\n",
       "    <tr>\n",
       "      <td>mean</td>\n",
       "      <td>-0.002936</td>\n",
       "    </tr>\n",
       "    <tr>\n",
       "      <td>std</td>\n",
       "      <td>1.021041</td>\n",
       "    </tr>\n",
       "    <tr>\n",
       "      <td>min</td>\n",
       "      <td>-2.647000</td>\n",
       "    </tr>\n",
       "    <tr>\n",
       "      <td>25%</td>\n",
       "      <td>-0.720500</td>\n",
       "    </tr>\n",
       "    <tr>\n",
       "      <td>50%</td>\n",
       "      <td>-0.093000</td>\n",
       "    </tr>\n",
       "    <tr>\n",
       "      <td>75%</td>\n",
       "      <td>0.644750</td>\n",
       "    </tr>\n",
       "    <tr>\n",
       "      <td>max</td>\n",
       "      <td>3.436000</td>\n",
       "    </tr>\n",
       "  </tbody>\n",
       "</table>\n",
       "</div>"
      ],
      "text/plain": [
       "                y\n",
       "count  500.000000\n",
       "mean    -0.002936\n",
       "std      1.021041\n",
       "min     -2.647000\n",
       "25%     -0.720500\n",
       "50%     -0.093000\n",
       "75%      0.644750\n",
       "max      3.436000"
      ]
     },
     "execution_count": 10,
     "metadata": {},
     "output_type": "execute_result"
    }
   ],
   "source": [
    "df.describe()"
   ]
  },
  {
   "cell_type": "markdown",
   "metadata": {},
   "source": [
    "### Location\n",
    "One way to quantify a change in location over time is to fit a straight line to the data using an index variable as the independent variable in the regression. For our data, we assume that data are in sequential run order and that the data were collected at equally spaced time intervals. In our regression, we use the index variable $X = 1, 2, ..., N$, where $N$ is the number of observations. If there is no significant drift in the location over time, the slope parameter should be zero. "
   ]
  },
  {
   "cell_type": "code",
   "execution_count": 11,
   "metadata": {},
   "outputs": [],
   "source": [
    "Y = df[\"y\"]\n",
    "X = df.index.values + 1\n",
    "X = sm.add_constant(X)"
   ]
  },
  {
   "cell_type": "code",
   "execution_count": 12,
   "metadata": {},
   "outputs": [
    {
     "name": "stdout",
     "output_type": "stream",
     "text": [
      "                            OLS Regression Results                            \n",
      "==============================================================================\n",
      "Dep. Variable:                      y   R-squared:                       0.000\n",
      "Model:                            OLS   Adj. R-squared:                 -0.002\n",
      "Method:                 Least Squares   F-statistic:                   0.01566\n",
      "Date:                Sun, 29 Sep 2019   Prob (F-statistic):              0.900\n",
      "Time:                        11:44:40   Log-Likelihood:                -719.37\n",
      "No. Observations:                 500   AIC:                             1443.\n",
      "Df Residuals:                     498   BIC:                             1451.\n",
      "Df Model:                           1                                         \n",
      "Covariance Type:            nonrobust                                         \n",
      "==============================================================================\n",
      "                 coef    std err          t      P>|t|      [0.025      0.975]\n",
      "------------------------------------------------------------------------------\n",
      "const          0.0070      0.092      0.076      0.939      -0.173       0.187\n",
      "x1         -3.963e-05      0.000     -0.125      0.900      -0.001       0.001\n",
      "==============================================================================\n",
      "Omnibus:                        7.737   Durbin-Watson:                   1.906\n",
      "Prob(Omnibus):                  0.021   Jarque-Bera (JB):                7.834\n",
      "Skew:                           0.307   Prob(JB):                       0.0199\n",
      "Kurtosis:                       2.992   Cond. No.                         579.\n",
      "==============================================================================\n",
      "\n",
      "Warnings:\n",
      "[1] Standard Errors assume that the covariance matrix of the errors is correctly specified.\n"
     ]
    }
   ],
   "source": [
    "model = sm.OLS(Y, X)\n",
    "results = model.fit()\n",
    "print(results.summary())"
   ]
  },
  {
   "cell_type": "code",
   "execution_count": 13,
   "metadata": {},
   "outputs": [
    {
     "data": {
      "text/plain": [
       "['HC0_se',\n",
       " 'HC1_se',\n",
       " 'HC2_se',\n",
       " 'HC3_se',\n",
       " '_HCCM',\n",
       " '__class__',\n",
       " '__delattr__',\n",
       " '__dict__',\n",
       " '__dir__',\n",
       " '__doc__',\n",
       " '__eq__',\n",
       " '__format__',\n",
       " '__ge__',\n",
       " '__getattribute__',\n",
       " '__gt__',\n",
       " '__hash__',\n",
       " '__init__',\n",
       " '__init_subclass__',\n",
       " '__le__',\n",
       " '__lt__',\n",
       " '__module__',\n",
       " '__ne__',\n",
       " '__new__',\n",
       " '__reduce__',\n",
       " '__reduce_ex__',\n",
       " '__repr__',\n",
       " '__setattr__',\n",
       " '__sizeof__',\n",
       " '__str__',\n",
       " '__subclasshook__',\n",
       " '__weakref__',\n",
       " '_cache',\n",
       " '_data_attr',\n",
       " '_get_robustcov_results',\n",
       " '_is_nested',\n",
       " '_wexog_singular_values',\n",
       " 'aic',\n",
       " 'bic',\n",
       " 'bse',\n",
       " 'centered_tss',\n",
       " 'compare_f_test',\n",
       " 'compare_lm_test',\n",
       " 'compare_lr_test',\n",
       " 'condition_number',\n",
       " 'conf_int',\n",
       " 'conf_int_el',\n",
       " 'cov_HC0',\n",
       " 'cov_HC1',\n",
       " 'cov_HC2',\n",
       " 'cov_HC3',\n",
       " 'cov_kwds',\n",
       " 'cov_params',\n",
       " 'cov_type',\n",
       " 'df_model',\n",
       " 'df_resid',\n",
       " 'diagn',\n",
       " 'eigenvals',\n",
       " 'el_test',\n",
       " 'ess',\n",
       " 'f_pvalue',\n",
       " 'f_test',\n",
       " 'fittedvalues',\n",
       " 'fvalue',\n",
       " 'get_influence',\n",
       " 'get_prediction',\n",
       " 'get_robustcov_results',\n",
       " 'initialize',\n",
       " 'k_constant',\n",
       " 'llf',\n",
       " 'load',\n",
       " 'model',\n",
       " 'mse_model',\n",
       " 'mse_resid',\n",
       " 'mse_total',\n",
       " 'nobs',\n",
       " 'normalized_cov_params',\n",
       " 'outlier_test',\n",
       " 'params',\n",
       " 'predict',\n",
       " 'pvalues',\n",
       " 'remove_data',\n",
       " 'resid',\n",
       " 'resid_pearson',\n",
       " 'rsquared',\n",
       " 'rsquared_adj',\n",
       " 'save',\n",
       " 'scale',\n",
       " 'ssr',\n",
       " 'summary',\n",
       " 'summary2',\n",
       " 't_test',\n",
       " 't_test_pairwise',\n",
       " 'tvalues',\n",
       " 'uncentered_tss',\n",
       " 'use_t',\n",
       " 'wald_test',\n",
       " 'wald_test_terms',\n",
       " 'wresid']"
      ]
     },
     "execution_count": 13,
     "metadata": {},
     "output_type": "execute_result"
    }
   ],
   "source": [
    "dir(results)"
   ]
  },
  {
   "cell_type": "code",
   "execution_count": 14,
   "metadata": {},
   "outputs": [
    {
     "name": "stdout",
     "output_type": "stream",
     "text": [
      "Residual Standard Deviation = 1.0220497382608675\n",
      "Residual Degrees of Freedom = 498.0\n"
     ]
    }
   ],
   "source": [
    "SSR = np.sqrt(results.mse_resid)\n",
    "print(\"Residual Standard Deviation =\", SSR)\n",
    "print(\"Residual Degrees of Freedom =\", results.df_resid)"
   ]
  },
  {
   "cell_type": "markdown",
   "metadata": {},
   "source": [
    "The absolute value of the *t*-value for the slope parameter is smaller than the critical value of $t_{0.975, 498} = 1.96$. Thus, we conclude that the slope is not different from zero at the 0.05 significance level."
   ]
  },
  {
   "cell_type": "markdown",
   "metadata": {},
   "source": [
    "### Variation\n",
    "One simple way to detect a change in variation is with __Bartlett's test__, after dividing the data set into several equal-sized intervals. The choice of the number of intervals is somewhat arbitrary, although values of four or eight are reasonable. We will divide our data into four intervals."
   ]
  },
  {
   "cell_type": "code",
   "execution_count": 15,
   "metadata": {},
   "outputs": [
    {
     "name": "stdout",
     "output_type": "stream",
     "text": [
      "500\n",
      "125\n",
      "125\n",
      "125\n",
      "125\n"
     ]
    }
   ],
   "source": [
    "Y = df[\"y\"]\n",
    "G1, G2, G3, G4 = Y[:125], Y[125:250], Y[250:375], Y[375:]\n",
    "for G in (Y, G1, G2, G3, G4):\n",
    "    print(len(G))"
   ]
  },
  {
   "cell_type": "markdown",
   "metadata": {},
   "source": [
    "Null and alternative hypothesis\n",
    "\n",
    "$H_0$:  $\\sigma_1^2 = \\sigma_2^2 = \\sigma_3^2 = \\sigma_4^2$\n",
    "\n",
    "$H_a$:  At least one $\\sigma_i^2$ is not equal to the others."
   ]
  },
  {
   "cell_type": "code",
   "execution_count": 16,
   "metadata": {},
   "outputs": [
    {
     "name": "stdout",
     "output_type": "stream",
     "text": [
      "Test statistic = 2.37366925157454\n",
      "p-value = 0.49855490294290494\n"
     ]
    }
   ],
   "source": [
    "T, p_value = stats.bartlett(G1, G2, G3, G4)\n",
    "print(\"Test statistic =\", T)\n",
    "print(\"p-value =\", p_value)"
   ]
  },
  {
   "cell_type": "markdown",
   "metadata": {},
   "source": [
    "In this case, Bartlett's test indicates that the variances are not significantly different in the four intervals."
   ]
  },
  {
   "cell_type": "markdown",
   "metadata": {},
   "source": [
    "### Randomness\n",
    "There are many ways in which data can be non-random. However, most common forms of non-randomness can be detected with a few simple tests including the lag plot shown on the previous section.\n",
    "\n",
    "Another check is an autocorrelation plot that shows the autocorrelations for various lags. Confidence bands can be plotted at the 95% and 99% confidence levels. Points outside this band indicate statistically significant values (lag 0 is always 1). "
   ]
  },
  {
   "cell_type": "code",
   "execution_count": 17,
   "metadata": {},
   "outputs": [
    {
     "data": {
      "image/png": "[encoded data removed]",
      "text/plain": [
       "<Figure size 432x288 with 1 Axes>"
      ]
     },
     "metadata": {
      "needs_background": "light"
     },
     "output_type": "display_data"
    },
    {
     "name": "stdout",
     "output_type": "stream",
     "text": [
      "lag = 0, autocorrelation coefficient = 1.000\n",
      "lag = 1, autocorrelation coefficient = 0.045\n",
      "lag = 2, autocorrelation coefficient = -0.002\n",
      "lag = 3, autocorrelation coefficient = 0.065\n",
      "lag = 4, autocorrelation coefficient = -0.056\n"
     ]
    }
   ],
   "source": [
    "coefs, _, _ = autocorrelation_plot(df[\"y\"], max_lag=21, c=\"green\", marker=\"o\")\n",
    "for lag, coef in enumerate(coefs[:5]):\n",
    "    print(\"lag = {}, autocorrelation coefficient = {:.3f}\".format(lag, coef))"
   ]
  },
  {
   "cell_type": "markdown",
   "metadata": {},
   "source": [
    "The lag 1 autocorrelation, which is generally the one of most interest, is 0.045. The critical values at the 5% significance level are -0.087 and 0.087. Since 0.045 is within the critical region, the lag 1 autocorrelation is not statistically significant, so there is no evidence of non-randomness."
   ]
  },
  {
   "cell_type": "markdown",
   "metadata": {},
   "source": [
    "A common test for randomness is the __Bardley runs test__.\n",
    "\n",
    "*Hypotheses*\n",
    "\n",
    ">$H_0$:  the sequence was produced in a random manner\n",
    ">\n",
    ">$H_a$:  the sequence was not produced in a random manner\n",
    "\n",
    "*Results*\n",
    "\n",
    "> Test statistic: $Z = -1.0744$\n",
    ">\n",
    "> Significance level: $\\alpha = 0.05$\n",
    ">\n",
    "> Critical value: $Z_{1-\\frac{\\alpha}{2}} = 1.96$\n",
    ">\n",
    "> Critical region:  Reject $H_0$ if $|{Z}| \\gt 1.96$ \n",
    "\n",
    "The runs test fails to reject the null hypothesis that the data were produced in a random manner. "
   ]
  },
  {
   "cell_type": "markdown",
   "metadata": {},
   "source": [
    "### Distributional Analysis\n",
    "Probability plots are a graphical test for assessing if a particular distribution provides an adequate fit to a data set.\n",
    "\n",
    "A quantitative enhancement to the probability plot is the correlation coefficient of the points on the probability plot, or PPCC. For this data set the PPCC based on a normal distribution is 0.996. Since the PPCC is greater than the critical value of 0.987 (this is a tabulated value), the normality assumption is not rejected."
   ]
  },
  {
   "cell_type": "code",
   "execution_count": 18,
   "metadata": {},
   "outputs": [
    {
     "name": "stdout",
     "output_type": "stream",
     "text": [
      "PPCC = 0.9961726948845886\n"
     ]
    }
   ],
   "source": [
    "_, results = stats.probplot(df[\"y\"])\n",
    "slope, intercept, r = results\n",
    "print(\"PPCC =\", r)"
   ]
  },
  {
   "cell_type": "markdown",
   "metadata": {},
   "source": [
    "Chi-square and Kolmogorov-Smirnov goodness-of-fit tests are alternative methods for assessing distributional adequacy. The Wilk-Shapiro and Anderson-Darling tests can be used to test for normality. The results of the Anderson-Darling test follow."
   ]
  },
  {
   "cell_type": "code",
   "execution_count": 19,
   "metadata": {},
   "outputs": [
    {
     "name": "stdout",
     "output_type": "stream",
     "text": [
      "AD statistic = 1.0612366824637434\n",
      "Critical value = 0.571 at significance level = 15.0\n",
      "Critical value = 0.651 at significance level = 10.0\n",
      "Critical value = 0.781 at significance level = 5.0\n",
      "Critical value = 0.911 at significance level = 2.5\n",
      "Critical value = 1.083 at significance level = 1.0\n"
     ]
    }
   ],
   "source": [
    "statistic, critical_values, significance_levels = stats.anderson(df[\"y\"])\n",
    "print(\"AD statistic =\", statistic)\n",
    "for level, crit in zip(significance_levels, critical_values):\n",
    "    print(\"Critical value = {} at significance level = {}\".format(crit, level))"
   ]
  },
  {
   "cell_type": "markdown",
   "metadata": {},
   "source": [
    "The Anderson-Darling test rejects the normality assumption at the 0.05 significance level."
   ]
  },
  {
   "cell_type": "markdown",
   "metadata": {},
   "source": [
    "### Outlier Analysis\n",
    "A test for outliers is the __Grubbs test__.\n",
    "\n",
    "*Hypotheses*\n",
    "\n",
    ">$H_0$: there are no outliers in the data\n",
    ">\n",
    ">$H_a$: the maximum value is an outlier\n",
    "\n",
    "*Results*\n",
    "\n",
    ">Test statistic:  $G = 3.368068$\n",
    ">\n",
    ">Significance level: $\\alpha = 0.05$\n",
    ">\n",
    ">Critical value for an upper one-tailed test: $G_{crit}=3.863087$\n",
    ">\n",
    ">Critical region: Reject $H_0$ if $G\\gt3.863087$\n",
    "\n",
    "For this data set, Grubbs' test does not detect any outliers at the 0.05 significance level. "
   ]
  },
  {
   "cell_type": "code",
   "execution_count": 20,
   "metadata": {},
   "outputs": [
    {
     "name": "stdout",
     "output_type": "stream",
     "text": [
      "Requirement already satisfied: outlier_utils in c:\\users\\an pc\\jupyter\\.venv\\lib\\site-packages (0.0.3)\n"
     ]
    }
   ],
   "source": [
    "!pip install outlier_utils\n",
    "from outliers import smirnov_grubbs as grubbs"
   ]
  },
  {
   "cell_type": "code",
   "execution_count": 21,
   "metadata": {},
   "outputs": [
    {
     "name": "stdout",
     "output_type": "stream",
     "text": [
      "The maximum value is not an outlier.\n"
     ]
    },
    {
     "name": "stderr",
     "output_type": "stream",
     "text": [
      "c:\\users\\an pc\\jupyter\\.venv\\lib\\site-packages\\outliers\\smirnov_grubbs.py:185: FutureWarning: \n",
      "The current behaviour of 'Series.argmax' is deprecated, use 'idxmax'\n",
      "instead.\n",
      "The behavior of 'argmax' will be corrected to return the positional\n",
      "maximum in the future. For now, use 'series.values.argmax' or\n",
      "'np.argmax(np.array(values))' to get the position of the maximum\n",
      "row.\n",
      "  return data.argmax()\n"
     ]
    }
   ],
   "source": [
    "outliers = grubbs.max_test_outliers(df[\"y\"], alpha=0.05)\n",
    "if len(outliers) == 0:\n",
    "    print(\"The maximum value is not an outlier.\")\n",
    "else:\n",
    "    print(\"Outliers:\", outliers)"
   ]
  },
  {
   "cell_type": "markdown",
   "metadata": {},
   "source": [
    "### Model\n",
    "Since the underlying assumptions were validated both graphically and analytically, we conclude that a reasonable model for the data is: $Y_i = C + E_i$, where $C$ is the estimated value of the mean, $-0.00294$. We can express the uncertainty for $C$ as a 95% confidence interval $(-0.09266, 0.08678)$. "
   ]
  },
  {
   "cell_type": "markdown",
   "metadata": {},
   "source": [
    "### Univariate Report\n",
    "It is sometimes useful and convenient to summarize the above results in a report.\n",
    "\n",
    "#### Analysis of 500 normal random numbers\n",
    "\n",
    "1. Sample Size                           = 500\n",
    "\n",
    "\n",
    "2. Location\n",
    "    * Mean                                  = -0.00294\n",
    "    * Standard Deviation of Mean            = 0.045663\n",
    "    * 95% Confidence Interval for Mean      = (-0.09266,0.086779)\n",
    "    * Drift with respect to location?       = NO\n",
    "  \n",
    "  \n",
    "3. Variation\n",
    "    * Standard Deviation                    = 1.021042\n",
    "    * 95% Confidence Interval for SD        = (0.961437, 1.088585)\n",
    "    * Drift with respect to variation? (based on Bartletts test on quarters of the data) = NO\n",
    "  \n",
    "  \n",
    "4. Data are Normal?\n",
    "    *    (as tested by Normal PPCC)         = YES\n",
    "    *    (as tested by Anderson-Darling)    = NO\n",
    "  \n",
    "  \n",
    "5. Randomness\n",
    "    * Autocorrelation                       = 0.045059\n",
    "    * Data are Random? (as measured by autocorrelation) = YES\n",
    "\n",
    "\n",
    "6. Statistical Control (i.e., no drift in location or scale, data are random, distribution is fixed, here we are testing only for fixed normal)\n",
    "    * Data Set is in Statistical Control?   = YES\n",
    "  \n",
    "  \n",
    "7. Outliers? (as determined by Grubbs' test) = NO"
   ]
  },
  {
   "cell_type": "markdown",
   "metadata": {},
   "source": [
    "---"
   ]
  }
 ],
 "metadata": {
  "kernelspec": {
   "display_name": "Python 3",
   "language": "python",
   "name": "python3"
  },
  "language_info": {
   "codemirror_mode": {
    "name": "ipython",
    "version": 3
   },
   "file_extension": ".py",
   "mimetype": "text/x-python",
   "name": "python",
   "nbconvert_exporter": "python",
   "pygments_lexer": "ipython3",
   "version": "3.7.4"
  }
 },
 "nbformat": 4,
 "nbformat_minor": 2
}
