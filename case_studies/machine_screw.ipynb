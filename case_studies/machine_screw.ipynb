{
 "cells": [
  {
   "cell_type": "markdown",
   "metadata": {},
   "source": [
    "Sources:\n",
    "\n",
    "https://www.itl.nist.gov/div898/handbook/ppc/section5/ppc52.htm\n",
    "\n",
    "https://www.itl.nist.gov/div898/handbook/pmc/section1/pmc16.htm\n",
    "\n",
    "https://support.minitab.com/en-us/minitab/19/help-and-how-to/quality-and-process-improvement/capability-analysis/how-to/capability-analysis/normal-capability-analysis/methods-and-formulas/overall-capability/#cpm"
   ]
  },
  {
   "cell_type": "markdown",
   "metadata": {},
   "source": [
    "## Preparation"
   ]
  },
  {
   "cell_type": "code",
   "execution_count": 1,
   "metadata": {},
   "outputs": [
    {
     "data": {
      "text/plain": [
       "'C:\\\\Users\\\\An PC\\\\jupyter\\\\eda'"
      ]
     },
     "execution_count": 1,
     "metadata": {},
     "output_type": "execute_result"
    }
   ],
   "source": [
    "import os\n",
    "os.chdir(\"..\")\n",
    "os.getcwd()"
   ]
  },
  {
   "cell_type": "code",
   "execution_count": 2,
   "metadata": {},
   "outputs": [],
   "source": [
    "import pandas as pd\n",
    "import numpy as np\n",
    "import matplotlib.pyplot as plt\n",
    "from scipy import stats\n",
    "import statsmodels.api as sm\n",
    "\n",
    "from utils import datasets\n",
    "from utils import calculations\n",
    "from utils.plotting import show_and_save_plot\n",
    "from plots import (run_sequence_plot, histogram, lag_plot, probability_plot, qq_plot,\n",
    "                   block_plot, box_plot)"
   ]
  },
  {
   "cell_type": "markdown",
   "metadata": {},
   "source": [
    "---\n",
    "\n",
    "# Machine Screw Case Study\n",
    "This case study analyzes three automatic screw machines with the intent of replacing one of them.\n",
    "\n",
    "The case study is broken down into the following steps.\n",
    "\n",
    "1. [Background and Data](#background)\n",
    "2. [Box Plots by Factor](#box_plots)\n",
    "3. [Analysis of Variance](#anova)\n",
    "4. [Throughput](#throughput)\n",
    "5. [Final Conclusions](#conclusions)\n",
    "    \n",
    "---\n",
    "\n",
    "## <a name=\"background\"></a>Background and Data\n",
    "### Introduction\n",
    "A machine shop has three automatic screw machines that produce various parts. The shop has enough capital to replace one of the machines. The quality control department has been asked to conduct a study and make a recommendation as to which machine should be replaced. It was decided to monitor one of the most commonly produced parts (an 1/8th inch diameter pin) on each of the machines and see which machine is the least stable.\n",
    "\n",
    "### Goal\n",
    "The goal of this study is to determine which machine is least stable in manufacturing a steel pin with a diameter of 0.125 $\\pm$ 0.003 inches. Stability will be measured in terms of a constant variance about a constant mean. If all machines are stable, the decision will be based on process variability and throughput. Namely, the machine with the highest variability and lowest throughput will be selected for replacement.\n",
    "\n",
    "### Data source\n",
    "https://www.itl.nist.gov/div898/handbook/datasets/MACHINE.DAT\n",
    "\n",
    "### Process Model\n",
    "The process model for this operation is trivial and need not be addressed.\n",
    "\n",
    "### Sensitivity Model\n",
    "The sensitivity model, however, is important and is given in the figure below. The material is not very important. All machines will receive barstock from the same source and the coolant will be the same. The method is important. Each machine is slightly different and the operator must make adjustments to the speed (how fast the part rotates), feed (how quickly the cut is made) and stops (where cuts are finished) for each machine. The same operator will be running all three machines simultaneously. Measurement is not too important. An experienced QC engineer will be collecting the samples and making the measurements. Finally, the machine condition is really what this study is all about. The wear on the ways and the lead screws will largely determine the stability of the machining process. Also, tool wear is important. The same type of tool inserts will be used on all three machines. The tool insert wear will be monitored by the operator and they will be changed as needed.\n",
    "\n",
    "![](https://www.itl.nist.gov/div898/handbook/ppc/section5/Machine/gifs/machine.gif)\n",
    "\n",
    "### Sampling Plan\n",
    "Given our goal statement and process modeling, we can now define a sampling plan. The primary goal is to determine if the process is stable and to compare the variances of the three machines. We also need to monitor throughput so that we can compare the productivity of the three machines.\n",
    "\n",
    "There is an upcoming three-day run of the particular part of interest, so this study will be conducted on that run. There is a suspected time-of-day effect that we must account for. It is sometimes the case that the machines do not perform as well in the morning, when they are first started up, as they do later in the day. To account for this we will sample parts in the morning and in the afternoon. So as not to impact other QC operations too severely, it was decided to sample 10 parts, twice a day, for three days from each of the three machines. Daily throughput will be recorded as well.\n",
    "\n",
    "We are expecting readings around 0.125 $\\pm$ 0.003 inches. The parts will be measured using a standard micrometer with readings recorded to 0.0001 of an inch. Throughput will be measured by reading the part counters on the machines at the end of each day. \n",
    "\n",
    "### Data\n",
    "The following are the data that were collected for this study.\n",
    "\n",
    "```\n",
    "This is the Dataplot data file        MACHINE.DAT\n",
    "Data provided by Barry Hembre of AMD.  This data set is analyzed\n",
    "as a case study in the \"Production Process Characterization\"\n",
    "chapter of the NIST/SEMATECH Engineering Statistics Handbook.\n",
    "The URL for this case study is:\n",
    "\n",
    "   http://www.itl.nist.gov/div898/handbook/ppc/section5/ppc52.htm\n",
    "\n",
    "Contact--Barry Hembree, AMD\n",
    "Number of observations                       = 180\n",
    "Number of observations per line image        = 5\n",
    "Order of variables on a line image--\n",
    "   1. Factor Variable MACHINE      = Machine Number\n",
    "   2. Factor Variable DAY          = Day\n",
    "   3. Factor Variable TIME         = 1 = AM, 2 = PM\n",
    "   4. Factor Variable SAMPLE       = Sample Number\n",
    "   5. Dependent Variable DIAMETER  = DIAMETER\n",
    "```"
   ]
  },
  {
   "cell_type": "code",
   "execution_count": 5,
   "metadata": {},
   "outputs": [
    {
     "data": {
      "text/html": [
       "<div>\n",
       "<style scoped>\n",
       "    .dataframe tbody tr th:only-of-type {\n",
       "        vertical-align: middle;\n",
       "    }\n",
       "\n",
       "    .dataframe tbody tr th {\n",
       "        vertical-align: top;\n",
       "    }\n",
       "\n",
       "    .dataframe thead th {\n",
       "        text-align: right;\n",
       "    }\n",
       "</style>\n",
       "<table border=\"1\" class=\"dataframe\">\n",
       "  <thead>\n",
       "    <tr style=\"text-align: right;\">\n",
       "      <th></th>\n",
       "      <th>MACHINE</th>\n",
       "      <th>DAY</th>\n",
       "      <th>TIME</th>\n",
       "      <th>SAMPLE</th>\n",
       "      <th>DIAMETER</th>\n",
       "    </tr>\n",
       "  </thead>\n",
       "  <tbody>\n",
       "    <tr>\n",
       "      <td>0</td>\n",
       "      <td>1</td>\n",
       "      <td>1</td>\n",
       "      <td>1</td>\n",
       "      <td>1</td>\n",
       "      <td>0.1247</td>\n",
       "    </tr>\n",
       "    <tr>\n",
       "      <td>1</td>\n",
       "      <td>1</td>\n",
       "      <td>1</td>\n",
       "      <td>1</td>\n",
       "      <td>2</td>\n",
       "      <td>0.1264</td>\n",
       "    </tr>\n",
       "    <tr>\n",
       "      <td>2</td>\n",
       "      <td>1</td>\n",
       "      <td>1</td>\n",
       "      <td>1</td>\n",
       "      <td>3</td>\n",
       "      <td>0.1252</td>\n",
       "    </tr>\n",
       "    <tr>\n",
       "      <td>3</td>\n",
       "      <td>1</td>\n",
       "      <td>1</td>\n",
       "      <td>1</td>\n",
       "      <td>4</td>\n",
       "      <td>0.1253</td>\n",
       "    </tr>\n",
       "    <tr>\n",
       "      <td>4</td>\n",
       "      <td>1</td>\n",
       "      <td>1</td>\n",
       "      <td>1</td>\n",
       "      <td>5</td>\n",
       "      <td>0.1263</td>\n",
       "    </tr>\n",
       "    <tr>\n",
       "      <td>5</td>\n",
       "      <td>1</td>\n",
       "      <td>1</td>\n",
       "      <td>1</td>\n",
       "      <td>6</td>\n",
       "      <td>0.1251</td>\n",
       "    </tr>\n",
       "    <tr>\n",
       "      <td>6</td>\n",
       "      <td>1</td>\n",
       "      <td>1</td>\n",
       "      <td>1</td>\n",
       "      <td>7</td>\n",
       "      <td>0.1254</td>\n",
       "    </tr>\n",
       "    <tr>\n",
       "      <td>7</td>\n",
       "      <td>1</td>\n",
       "      <td>1</td>\n",
       "      <td>1</td>\n",
       "      <td>8</td>\n",
       "      <td>0.1239</td>\n",
       "    </tr>\n",
       "    <tr>\n",
       "      <td>8</td>\n",
       "      <td>1</td>\n",
       "      <td>1</td>\n",
       "      <td>1</td>\n",
       "      <td>9</td>\n",
       "      <td>0.1235</td>\n",
       "    </tr>\n",
       "    <tr>\n",
       "      <td>9</td>\n",
       "      <td>1</td>\n",
       "      <td>1</td>\n",
       "      <td>1</td>\n",
       "      <td>10</td>\n",
       "      <td>0.1257</td>\n",
       "    </tr>\n",
       "  </tbody>\n",
       "</table>\n",
       "</div>"
      ],
      "text/plain": [
       "   MACHINE  DAY  TIME  SAMPLE  DIAMETER\n",
       "0        1    1     1       1    0.1247\n",
       "1        1    1     1       2    0.1264\n",
       "2        1    1     1       3    0.1252\n",
       "3        1    1     1       4    0.1253\n",
       "4        1    1     1       5    0.1263\n",
       "5        1    1     1       6    0.1251\n",
       "6        1    1     1       7    0.1254\n",
       "7        1    1     1       8    0.1239\n",
       "8        1    1     1       9    0.1235\n",
       "9        1    1     1      10    0.1257"
      ]
     },
     "execution_count": 5,
     "metadata": {},
     "output_type": "execute_result"
    }
   ],
   "source": [
    "df = datasets.load_screw_machine()\n",
    "df.head(n=10)"
   ]
  },
  {
   "cell_type": "markdown",
   "metadata": {},
   "source": [
    "---\n",
    "\n",
    "## <a name=\"box_plots\"></a>Box Plots by Factor\n",
    "The next part of the analysis is to break down the sources of variation.\n",
    "\n",
    "### Initial Steps\n",
    "The initial step is to plot box plots of the measured diameter for each of the explanatory variables.\n",
    "\n",
    "### Box Plot by Machine\n",
    "The following is a box plot of the diameter by machine."
   ]
  },
  {
   "cell_type": "code",
   "execution_count": 6,
   "metadata": {},
   "outputs": [
    {
     "data": {
      "image/png": "[encoded data removed]",
      "text/plain": [
       "<Figure size 432x432 with 1 Axes>"
      ]
     },
     "metadata": {
      "needs_background": "light"
     },
     "output_type": "display_data"
    }
   ],
   "source": [
    "fig, ax = plt.subplots(figsize=(6, 6))\n",
    "\n",
    "box_plot(df, column=\"DIAMETER\", group=\"MACHINE\", x_label=\"Machine\",\n",
    "         y_label=\"Diameter (inches)\", ax=ax, show=False, grid=False)\n",
    "\n",
    "mean = df[\"DIAMETER\"].mean()\n",
    "ax.axhline(y=mean)\n",
    "\n",
    "plt.show()"
   ]
  },
  {
   "cell_type": "markdown",
   "metadata": {},
   "source": [
    "### Conclusions From Box Plot\n",
    "We can make the following conclusions from this box plot.\n",
    "\n",
    "\n",
    "1. The location appears to be significantly different for the three machines, with machine 2 having the smallest median diameter and machine 1 having the largest median diameter.\n",
    "\n",
    "\n",
    "2. Machines 1 and 2 have comparable variability while machine 3 has somewhat larger variability. \n",
    "\n",
    "### Box Plot by Day\n",
    "The following is a box plot of the diameter by day."
   ]
  },
  {
   "cell_type": "code",
   "execution_count": 7,
   "metadata": {},
   "outputs": [
    {
     "data": {
      "image/png": "[encoded data removed]",
      "text/plain": [
       "<Figure size 432x432 with 1 Axes>"
      ]
     },
     "metadata": {
      "needs_background": "light"
     },
     "output_type": "display_data"
    }
   ],
   "source": [
    "fig, ax = plt.subplots(figsize=(6, 6))\n",
    "\n",
    "box_plot(df, column=\"DIAMETER\", group=\"DAY\", x_label=\"Day\",\n",
    "         y_label=\"Diameter (inches)\", ax=ax, show=False, grid=False)\n",
    "\n",
    "mean = df[\"DIAMETER\"].mean()\n",
    "ax.axhline(y=mean)\n",
    "\n",
    "plt.show()"
   ]
  },
  {
   "cell_type": "markdown",
   "metadata": {},
   "source": [
    "### Conclusions From Box Plot\n",
    "We can draw the following conclusion from this box plot. Neither the location nor the spread seem to differ significantly by day.\n",
    "\n",
    "### Box Plot by Time of Day\n",
    "The following is a box plot of the time of day."
   ]
  },
  {
   "cell_type": "code",
   "execution_count": 10,
   "metadata": {},
   "outputs": [
    {
     "data": {
      "image/png": "[encoded data removed]",
      "text/plain": [
       "<Figure size 432x432 with 1 Axes>"
      ]
     },
     "metadata": {
      "needs_background": "light"
     },
     "output_type": "display_data"
    }
   ],
   "source": [
    "fig, ax = plt.subplots(figsize=(6, 6))\n",
    "\n",
    "box_plot(df, column=\"DIAMETER\", group=\"TIME\", x_label=\"Time of Day\",\n",
    "         y_label=\"Diameter (inches)\", ax=ax, show=False, grid=False)\n",
    "\n",
    "mean = df[\"DIAMETER\"].mean()\n",
    "ax.axhline(y=mean)\n",
    "\n",
    "ax.set_xticklabels([\"AM\", \"PM\"])\n",
    "\n",
    "plt.show()"
   ]
  },
  {
   "cell_type": "markdown",
   "metadata": {},
   "source": [
    "### Conclusion From Box Plot\n",
    "We can draw the following conclusion from this box plot. Neither the location nor the spread seem to differ significantly by time of day.\n",
    "\n",
    "### Box Plot by Sample Number\n",
    "The following is a box plot of the sample number."
   ]
  },
  {
   "cell_type": "code",
   "execution_count": 11,
   "metadata": {},
   "outputs": [
    {
     "data": {
      "image/png": "[encoded data removed]",
      "text/plain": [
       "<Figure size 432x432 with 1 Axes>"
      ]
     },
     "metadata": {
      "needs_background": "light"
     },
     "output_type": "display_data"
    }
   ],
   "source": [
    "fig, ax = plt.subplots(figsize=(6, 6))\n",
    "\n",
    "box_plot(df, column=\"DIAMETER\", group=\"SAMPLE\", x_label=\"Sample Number\",\n",
    "         y_label=\"Diameter (inches)\", ax=ax, show=False, grid=False)\n",
    "\n",
    "mean = df[\"DIAMETER\"].mean()\n",
    "ax.axhline(y=mean)\n",
    "\n",
    "plt.show()"
   ]
  },
  {
   "cell_type": "markdown",
   "metadata": {},
   "source": [
    "### Conclusion From Box Plot\n",
    "We can draw the following conclusion from this box plot. Although there are some minor differences in location and spread between the samples, these differences do not show a noticeable pattern and do not seem significant.\n",
    "\n",
    "---\n",
    "\n",
    "## <a name=\"anova\"></a>Analysis of Variance\n",
    "### Analysis of Variance Using All Factors\n",
    "We can confirm our interpretation of the box plots by running an analysis of variance when all four factors are included.\n",
    "\n",
    "```\n",
    " Source            DF    Sum of       Mean   F Statistic   Prob > F\n",
    "                        Squares     Square                   \n",
    " ------------------------------------------------------------------\n",
    " Machine            2  0.000111   0.000055       29.3159    1.3e-11\n",
    " Day                2  0.000004   0.000002        0.9884       0.37\n",
    " Time               1  0.000002   0.000002        1.2478       0.27\n",
    " Sample             9  0.000009   0.000001        0.5205       0.86\n",
    " Residual         165  0.000312   0.000002\n",
    " ------------------------------------------------------------------\n",
    " Corrected Total  179  0.000437   0.000002\n",
    " ```\n",
    " \n",
    "__Since there is still no Python module for multi-way ANOVA without considering interactions, here we will be using the Linear Regression Model instead.__"
   ]
  },
  {
   "cell_type": "code",
   "execution_count": 14,
   "metadata": {},
   "outputs": [],
   "source": [
    "import statsmodels.formula.api as smf"
   ]
  },
  {
   "cell_type": "code",
   "execution_count": 24,
   "metadata": {},
   "outputs": [
    {
     "data": {
      "text/html": [
       "<table class=\"simpletable\">\n",
       "<caption>OLS Regression Results</caption>\n",
       "<tr>\n",
       "  <th>Dep. Variable:</th>        <td>DIAMETER</td>     <th>  R-squared:         </th> <td>   0.066</td>\n",
       "</tr>\n",
       "<tr>\n",
       "  <th>Model:</th>                   <td>OLS</td>       <th>  Adj. R-squared:    </th> <td>   0.044</td>\n",
       "</tr>\n",
       "<tr>\n",
       "  <th>Method:</th>             <td>Least Squares</td>  <th>  F-statistic:       </th> <td>   3.076</td>\n",
       "</tr>\n",
       "<tr>\n",
       "  <th>Date:</th>             <td>Thu, 03 Oct 2019</td> <th>  Prob (F-statistic):</th>  <td>0.0177</td> \n",
       "</tr>\n",
       "<tr>\n",
       "  <th>Time:</th>                 <td>18:57:01</td>     <th>  Log-Likelihood:    </th> <td>  914.20</td>\n",
       "</tr>\n",
       "<tr>\n",
       "  <th>No. Observations:</th>      <td>   180</td>      <th>  AIC:               </th> <td>  -1818.</td>\n",
       "</tr>\n",
       "<tr>\n",
       "  <th>Df Residuals:</th>          <td>   175</td>      <th>  BIC:               </th> <td>  -1802.</td>\n",
       "</tr>\n",
       "<tr>\n",
       "  <th>Df Model:</th>              <td>     4</td>      <th>                     </th>     <td> </td>   \n",
       "</tr>\n",
       "<tr>\n",
       "  <th>Covariance Type:</th>      <td>nonrobust</td>    <th>                     </th>     <td> </td>   \n",
       "</tr>\n",
       "</table>\n",
       "<table class=\"simpletable\">\n",
       "<tr>\n",
       "      <td></td>         <th>coef</th>     <th>std err</th>      <th>t</th>      <th>P>|t|</th>  <th>[0.025</th>    <th>0.975]</th>  \n",
       "</tr>\n",
       "<tr>\n",
       "  <th>Intercept</th> <td>    0.1247</td> <td>    0.001</td> <td>  216.103</td> <td> 0.000</td> <td>    0.124</td> <td>    0.126</td>\n",
       "</tr>\n",
       "<tr>\n",
       "  <th>MACHINE</th>   <td>   -0.0004</td> <td>    0.000</td> <td>   -3.100</td> <td> 0.002</td> <td>   -0.001</td> <td>   -0.000</td>\n",
       "</tr>\n",
       "<tr>\n",
       "  <th>DAY</th>       <td>   -0.0002</td> <td>    0.000</td> <td>   -1.189</td> <td> 0.236</td> <td>   -0.000</td> <td>    0.000</td>\n",
       "</tr>\n",
       "<tr>\n",
       "  <th>TIME</th>      <td>    0.0002</td> <td>    0.000</td> <td>    1.005</td> <td> 0.316</td> <td>   -0.000</td> <td>    0.001</td>\n",
       "</tr>\n",
       "<tr>\n",
       "  <th>SAMPLE</th>    <td> 2.054e-05</td> <td> 3.97e-05</td> <td>    0.518</td> <td> 0.605</td> <td>-5.77e-05</td> <td> 9.88e-05</td>\n",
       "</tr>\n",
       "</table>\n",
       "<table class=\"simpletable\">\n",
       "<tr>\n",
       "  <th>Omnibus:</th>       <td> 4.492</td> <th>  Durbin-Watson:     </th> <td>   1.757</td>\n",
       "</tr>\n",
       "<tr>\n",
       "  <th>Prob(Omnibus):</th> <td> 0.106</td> <th>  Jarque-Bera (JB):  </th> <td>   4.480</td>\n",
       "</tr>\n",
       "<tr>\n",
       "  <th>Skew:</th>          <td> 0.384</td> <th>  Prob(JB):          </th> <td>   0.106</td>\n",
       "</tr>\n",
       "<tr>\n",
       "  <th>Kurtosis:</th>      <td> 2.920</td> <th>  Cond. No.          </th> <td>    36.5</td>\n",
       "</tr>\n",
       "</table><br/><br/>Warnings:<br/>[1] Standard Errors assume that the covariance matrix of the errors is correctly specified."
      ],
      "text/plain": [
       "<class 'statsmodels.iolib.summary.Summary'>\n",
       "\"\"\"\n",
       "                            OLS Regression Results                            \n",
       "==============================================================================\n",
       "Dep. Variable:               DIAMETER   R-squared:                       0.066\n",
       "Model:                            OLS   Adj. R-squared:                  0.044\n",
       "Method:                 Least Squares   F-statistic:                     3.076\n",
       "Date:                Thu, 03 Oct 2019   Prob (F-statistic):             0.0177\n",
       "Time:                        18:57:01   Log-Likelihood:                 914.20\n",
       "No. Observations:                 180   AIC:                            -1818.\n",
       "Df Residuals:                     175   BIC:                            -1802.\n",
       "Df Model:                           4                                         \n",
       "Covariance Type:            nonrobust                                         \n",
       "==============================================================================\n",
       "                 coef    std err          t      P>|t|      [0.025      0.975]\n",
       "------------------------------------------------------------------------------\n",
       "Intercept      0.1247      0.001    216.103      0.000       0.124       0.126\n",
       "MACHINE       -0.0004      0.000     -3.100      0.002      -0.001      -0.000\n",
       "DAY           -0.0002      0.000     -1.189      0.236      -0.000       0.000\n",
       "TIME           0.0002      0.000      1.005      0.316      -0.000       0.001\n",
       "SAMPLE      2.054e-05   3.97e-05      0.518      0.605   -5.77e-05    9.88e-05\n",
       "==============================================================================\n",
       "Omnibus:                        4.492   Durbin-Watson:                   1.757\n",
       "Prob(Omnibus):                  0.106   Jarque-Bera (JB):                4.480\n",
       "Skew:                           0.384   Prob(JB):                        0.106\n",
       "Kurtosis:                       2.920   Cond. No.                         36.5\n",
       "==============================================================================\n",
       "\n",
       "Warnings:\n",
       "[1] Standard Errors assume that the covariance matrix of the errors is correctly specified.\n",
       "\"\"\""
      ]
     },
     "execution_count": 24,
     "metadata": {},
     "output_type": "execute_result"
    }
   ],
   "source": [
    "model = smf.ols(formula=\"DIAMETER ~ MACHINE + DAY + TIME + SAMPLE\", data=df)\n",
    "ols_results = model.fit()\n",
    "ols_results.summary()"
   ]
  },
  {
   "cell_type": "code",
   "execution_count": 25,
   "metadata": {},
   "outputs": [
    {
     "data": {
      "text/html": [
       "<div>\n",
       "<style scoped>\n",
       "    .dataframe tbody tr th:only-of-type {\n",
       "        vertical-align: middle;\n",
       "    }\n",
       "\n",
       "    .dataframe tbody tr th {\n",
       "        vertical-align: top;\n",
       "    }\n",
       "\n",
       "    .dataframe thead th {\n",
       "        text-align: right;\n",
       "    }\n",
       "</style>\n",
       "<table border=\"1\" class=\"dataframe\">\n",
       "  <thead>\n",
       "    <tr style=\"text-align: right;\">\n",
       "      <th></th>\n",
       "      <th>sum_sq</th>\n",
       "      <th>df</th>\n",
       "      <th>F</th>\n",
       "      <th>PR(&gt;F)</th>\n",
       "    </tr>\n",
       "  </thead>\n",
       "  <tbody>\n",
       "    <tr>\n",
       "      <td>MACHINE</td>\n",
       "      <td>2.244675e-05</td>\n",
       "      <td>1.0</td>\n",
       "      <td>9.612700</td>\n",
       "      <td>0.002253</td>\n",
       "    </tr>\n",
       "    <tr>\n",
       "      <td>DAY</td>\n",
       "      <td>3.300083e-06</td>\n",
       "      <td>1.0</td>\n",
       "      <td>1.413243</td>\n",
       "      <td>0.236129</td>\n",
       "    </tr>\n",
       "    <tr>\n",
       "      <td>TIME</td>\n",
       "      <td>2.357556e-06</td>\n",
       "      <td>1.0</td>\n",
       "      <td>1.009610</td>\n",
       "      <td>0.316383</td>\n",
       "    </tr>\n",
       "    <tr>\n",
       "      <td>SAMPLE</td>\n",
       "      <td>6.264310e-07</td>\n",
       "      <td>1.0</td>\n",
       "      <td>0.268266</td>\n",
       "      <td>0.605152</td>\n",
       "    </tr>\n",
       "    <tr>\n",
       "      <td>Residual</td>\n",
       "      <td>4.086450e-04</td>\n",
       "      <td>175.0</td>\n",
       "      <td>NaN</td>\n",
       "      <td>NaN</td>\n",
       "    </tr>\n",
       "  </tbody>\n",
       "</table>\n",
       "</div>"
      ],
      "text/plain": [
       "                sum_sq     df         F    PR(>F)\n",
       "MACHINE   2.244675e-05    1.0  9.612700  0.002253\n",
       "DAY       3.300083e-06    1.0  1.413243  0.236129\n",
       "TIME      2.357556e-06    1.0  1.009610  0.316383\n",
       "SAMPLE    6.264310e-07    1.0  0.268266  0.605152\n",
       "Residual  4.086450e-04  175.0       NaN       NaN"
      ]
     },
     "execution_count": 25,
     "metadata": {},
     "output_type": "execute_result"
    }
   ],
   "source": [
    "anova_results = sm.stats.anova_lm(ols_results, typ=2)\n",
    "anova_results"
   ]
  },
  {
   "cell_type": "markdown",
   "metadata": {},
   "source": [
    "### Interpretation of ANOVA Output\n",
    "We fit the model\n",
    "\n",
    "$$Y_{ijklm}=\\mu+\\alpha i+\\beta j+\\tau k+\\phi l+\\epsilon_{ijklm}$$\n",
    "\n",
    "which has an overall mean, as opposed to the model\n",
    "\n",
    "$$Y_{ijklm}=A_i+B_j+C_k+D_l+\\epsilon_{ijklm}.$$\n",
    "\n",
    "These models are mathematically equivalent. The effect estimates in the first model are relative to the overall mean. The effect estimates for the second model can be obtained by simply adding the overall mean to effect estimates from the first model.\n",
    "\n",
    "Only the machine factor is statistically significant. This confirms what the box plots in the previous section had indicated graphically.\n",
    "\n",
    "### Analysis of Variance Using Only Machine\n",
    "The previous analysis of variance indicated that only the machine factor was statistically significant. The following table displays the ANOVA results using only the machine factor.\n",
    "\n",
    "```\n",
    " Source            DF    Sum of       Mean   F Statistic   Prob > F\n",
    "                        Squares     Square                   \n",
    " ------------------------------------------------------------------\n",
    " Machine            2  0.000111   0.000055       30.0094    6.0E-12\n",
    " Residual         177  0.000327   0.000002\n",
    " ------------------------------------------------------------------\n",
    " Corrected Total  179  0.000437   0.000002\n",
    "```"
   ]
  },
  {
   "cell_type": "code",
   "execution_count": 39,
   "metadata": {},
   "outputs": [
    {
     "name": "stdout",
     "output_type": "stream",
     "text": [
      "Collecting pingouin\n",
      "  Downloading https://files.pythonhosted.org/packages/43/c5/fc954c02b18e85659e987dd01ba22442d36e3387848ae1dcc875b15999f2/pingouin-0.2.9.tar.gz (207kB)\n",
      "Requirement already satisfied: numpy>=1.15 in c:\\users\\an pc\\jupyter\\.venv\\lib\\site-packages (from pingouin) (1.17.2)\n",
      "Requirement already satisfied: scipy>=1.3 in c:\\users\\an pc\\jupyter\\.venv\\lib\\site-packages (from pingouin) (1.3.1)\n",
      "Requirement already satisfied: pandas>=0.24 in c:\\users\\an pc\\jupyter\\.venv\\lib\\site-packages (from pingouin) (0.25.1)\n",
      "Requirement already satisfied: matplotlib>=3.0.2 in c:\\users\\an pc\\jupyter\\.venv\\lib\\site-packages (from pingouin) (3.1.1)\n",
      "Requirement already satisfied: seaborn>=0.9.0 in c:\\users\\an pc\\jupyter\\.venv\\lib\\site-packages (from pingouin) (0.9.0)\n",
      "Requirement already satisfied: statsmodels>=0.10.0 in c:\\users\\an pc\\jupyter\\.venv\\lib\\site-packages (from pingouin) (0.10.1)\n",
      "Collecting pandas_flavor>=0.1.2 (from pingouin)\n",
      "  Downloading https://files.pythonhosted.org/packages/79/35/092aa4518f4b386eb557c634f9765cdb3c6350950dfe2c58ed6e088e805d/pandas_flavor-0.1.2-py2.py3-none-any.whl\n",
      "Requirement already satisfied: pytz>=2017.2 in c:\\users\\an pc\\jupyter\\.venv\\lib\\site-packages (from pandas>=0.24->pingouin) (2019.2)\n",
      "Requirement already satisfied: python-dateutil>=2.6.1 in c:\\users\\an pc\\jupyter\\.venv\\lib\\site-packages (from pandas>=0.24->pingouin) (2.8.0)\n",
      "Requirement already satisfied: pyparsing!=2.0.4,!=2.1.2,!=2.1.6,>=2.0.1 in c:\\users\\an pc\\jupyter\\.venv\\lib\\site-packages (from matplotlib>=3.0.2->pingouin) (2.4.2)\n",
      "Requirement already satisfied: cycler>=0.10 in c:\\users\\an pc\\jupyter\\.venv\\lib\\site-packages (from matplotlib>=3.0.2->pingouin) (0.10.0)\n",
      "Requirement already satisfied: kiwisolver>=1.0.1 in c:\\users\\an pc\\jupyter\\.venv\\lib\\site-packages (from matplotlib>=3.0.2->pingouin) (1.1.0)\n",
      "Requirement already satisfied: patsy>=0.4.0 in c:\\users\\an pc\\jupyter\\.venv\\lib\\site-packages (from statsmodels>=0.10.0->pingouin) (0.5.1)\n",
      "Requirement already satisfied: six>=1.5 in c:\\users\\an pc\\jupyter\\.venv\\lib\\site-packages (from python-dateutil>=2.6.1->pandas>=0.24->pingouin) (1.12.0)\n",
      "Requirement already satisfied: setuptools in c:\\users\\an pc\\jupyter\\.venv\\lib\\site-packages (from kiwisolver>=1.0.1->matplotlib>=3.0.2->pingouin) (40.8.0)\n",
      "Installing collected packages: pandas-flavor, pingouin\n",
      "  Running setup.py install for pingouin: started\n",
      "    Running setup.py install for pingouin: finished with status 'done'\n",
      "Successfully installed pandas-flavor-0.1.2 pingouin-0.2.9\n"
     ]
    }
   ],
   "source": [
    "!pip install pingouin\n",
    "import pingouin as pg"
   ]
  },
  {
   "cell_type": "code",
   "execution_count": 88,
   "metadata": {},
   "outputs": [
    {
     "name": "stdout",
     "output_type": "stream",
     "text": [
      "    Source   SS   DF   MS      F       p-unc    np2\n",
      "0  MACHINE  0.0    2  0.0  30.01  5.9877e-12  0.253\n",
      "1   Within  0.0  177  0.0      -           -      -\n"
     ]
    }
   ],
   "source": [
    "aov = pg.anova(data=df, dv=\"DIAMETER\", between=\"MACHINE\", detailed=True)\n",
    "print(aov)"
   ]
  },
  {
   "cell_type": "markdown",
   "metadata": {},
   "source": [
    "We can also use Linear Regression model instead of one-way ANOVA.\n",
    "\n",
    "### Interpretation of ANOVA Output\n",
    "At this stage, we are interested in the level means for the machine variable."
   ]
  },
  {
   "cell_type": "code",
   "execution_count": 50,
   "metadata": {},
   "outputs": [
    {
     "data": {
      "text/html": [
       "<div>\n",
       "<style scoped>\n",
       "    .dataframe tbody tr th:only-of-type {\n",
       "        vertical-align: middle;\n",
       "    }\n",
       "\n",
       "    .dataframe tbody tr th {\n",
       "        vertical-align: top;\n",
       "    }\n",
       "\n",
       "    .dataframe thead tr th {\n",
       "        text-align: left;\n",
       "    }\n",
       "\n",
       "    .dataframe thead tr:last-of-type th {\n",
       "        text-align: right;\n",
       "    }\n",
       "</style>\n",
       "<table border=\"1\" class=\"dataframe\">\n",
       "  <thead>\n",
       "    <tr>\n",
       "      <th></th>\n",
       "      <th colspan=\"8\" halign=\"left\">DIAMETER</th>\n",
       "    </tr>\n",
       "    <tr>\n",
       "      <th></th>\n",
       "      <th>count</th>\n",
       "      <th>mean</th>\n",
       "      <th>std</th>\n",
       "      <th>min</th>\n",
       "      <th>25%</th>\n",
       "      <th>50%</th>\n",
       "      <th>75%</th>\n",
       "      <th>max</th>\n",
       "    </tr>\n",
       "    <tr>\n",
       "      <th>MACHINE</th>\n",
       "      <th></th>\n",
       "      <th></th>\n",
       "      <th></th>\n",
       "      <th></th>\n",
       "      <th></th>\n",
       "      <th></th>\n",
       "      <th></th>\n",
       "      <th></th>\n",
       "    </tr>\n",
       "  </thead>\n",
       "  <tbody>\n",
       "    <tr>\n",
       "      <td>1</td>\n",
       "      <td>60.0</td>\n",
       "      <td>0.124887</td>\n",
       "      <td>0.001146</td>\n",
       "      <td>0.1229</td>\n",
       "      <td>0.123975</td>\n",
       "      <td>0.1248</td>\n",
       "      <td>0.125500</td>\n",
       "      <td>0.1273</td>\n",
       "    </tr>\n",
       "    <tr>\n",
       "      <td>2</td>\n",
       "      <td>60.0</td>\n",
       "      <td>0.122968</td>\n",
       "      <td>0.000924</td>\n",
       "      <td>0.1205</td>\n",
       "      <td>0.122250</td>\n",
       "      <td>0.1231</td>\n",
       "      <td>0.123700</td>\n",
       "      <td>0.1247</td>\n",
       "    </tr>\n",
       "    <tr>\n",
       "      <td>3</td>\n",
       "      <td>60.0</td>\n",
       "      <td>0.124022</td>\n",
       "      <td>0.001836</td>\n",
       "      <td>0.1202</td>\n",
       "      <td>0.122650</td>\n",
       "      <td>0.1241</td>\n",
       "      <td>0.125325</td>\n",
       "      <td>0.1279</td>\n",
       "    </tr>\n",
       "  </tbody>\n",
       "</table>\n",
       "</div>"
      ],
      "text/plain": [
       "        DIAMETER                                                          \\\n",
       "           count      mean       std     min       25%     50%       75%   \n",
       "MACHINE                                                                    \n",
       "1           60.0  0.124887  0.001146  0.1229  0.123975  0.1248  0.125500   \n",
       "2           60.0  0.122968  0.000924  0.1205  0.122250  0.1231  0.123700   \n",
       "3           60.0  0.124022  0.001836  0.1202  0.122650  0.1241  0.125325   \n",
       "\n",
       "                 \n",
       "            max  \n",
       "MACHINE          \n",
       "1        0.1273  \n",
       "2        0.1247  \n",
       "3        0.1279  "
      ]
     },
     "execution_count": 50,
     "metadata": {},
     "output_type": "execute_result"
    }
   ],
   "source": [
    "groups_by_machine = df[[\"MACHINE\", \"DIAMETER\"]].groupby(by=\"MACHINE\").describe()\n",
    "groups_by_machine"
   ]
  },
  {
   "cell_type": "code",
   "execution_count": 68,
   "metadata": {},
   "outputs": [
    {
     "name": "stdout",
     "output_type": "stream",
     "text": [
      "Machine=1 | Mean=0.12489 | SE=0.00015 | Confidence Interval=(0.12264, 0.12713)\n",
      "Machine=2 | Mean=0.12297 | SE=0.00012 | Confidence Interval=(0.12116, 0.12478)\n",
      "Machine=3 | Mean=0.12402 | SE=0.00024 | Confidence Interval=(0.12042, 0.12762)\n"
     ]
    }
   ],
   "source": [
    "for machine in groups_by_machine.index:\n",
    "    n = groups_by_machine.loc[machine, (\"DIAMETER\",\"count\")]\n",
    "    mean = groups_by_machine.loc[machine, (\"DIAMETER\",\"mean\")]\n",
    "    std = groups_by_machine.loc[machine, (\"DIAMETER\",\"std\")]\n",
    "    \n",
    "    # Standard error of the mean\n",
    "    se = std / np.sqrt(n)\n",
    "    \n",
    "    # Confidence interval\n",
    "    ##ci = stats.t.interval(0.95, n-1, mean, std)\n",
    "    ci = stats.norm.interval(0.95, mean, std)\n",
    "    \n",
    "    print(\"Machine={} | Mean={:.5f} | SE={:.5f} | Confidence Interval=({:.5f}, {:.5f})\".format(\n",
    "                machine, mean, se, *ci))"
   ]
  },
  {
   "cell_type": "markdown",
   "metadata": {},
   "source": [
    "### Model Validation\n",
    "As a final step, we [validate the model](https://www.itl.nist.gov/div898/handbook/pmd/section4/pmd44.htm) by generating a [4-plot](https://www.itl.nist.gov/div898/handbook/eda/section3/4plot.htm) of the residuals.\n",
    "\n",
    "The following code uses the ANOVA for the Linear Regression model to calculate residuals."
   ]
  },
  {
   "cell_type": "code",
   "execution_count": 86,
   "metadata": {},
   "outputs": [],
   "source": [
    "model = smf.ols(formula=\"DIAMETER ~ MACHINE\", data=df)\n",
    "ols_results = model.fit()\n",
    "residuals = ols_results.resid"
   ]
  },
  {
   "cell_type": "code",
   "execution_count": 77,
   "metadata": {},
   "outputs": [],
   "source": [
    "def four_plot(series, main_title=\"4-PLOT\", show=True, save=False,\n",
    "              run_kws=None, lag_kws=None, hist_kws=None, prob_kws=None):\n",
    "\n",
    "    fig, axes = plt.subplots(nrows=2, ncols=2,\n",
    "                             gridspec_kw={\n",
    "                                 \"left\": 0.1, \"right\": 0.98,\n",
    "                                 \"top\": 0.9, \"bottom\": 0.1,\n",
    "                                 \"wspace\": 0.3, \"hspace\": 0.3,\n",
    "                                 },\n",
    "                             figsize=(7, 8))\n",
    "    rsp, lag = axes[0]\n",
    "    hist, prob = axes[1]\n",
    "    \n",
    "    # Run Sequence Plot\n",
    "    run_kws = run_kws if run_kws is not None else {}\n",
    "    clearance = (max(series)-min(series)) * 1/10\n",
    "    y_lim = (min(series)-clearance, max(series)+clearance)\n",
    "    run_sequence_plot(series, y_lim=y_lim, ax=rsp, show=False, **run_kws)\n",
    "\n",
    "    # Lag Plot\n",
    "    lag_kws = lag_kws if lag_kws is not None else {}\n",
    "    lag_plot(series, ax=lag, show=False, **lag_kws)\n",
    "    \n",
    "    # Histogram\n",
    "    hist_kws = hist_kws if hist_kws is not None else {}\n",
    "    histogram(series, ax=hist, show=False, **hist_kws)\n",
    "\n",
    "    # Probability Plot\n",
    "    prob_kws = prob_kws if prob_kws is not None else {}\n",
    "    probability_plot(series, ax=prob, show=False, **prob_kws)\n",
    "    \n",
    "    fig.suptitle(main_title)\n",
    "    \n",
    "    show_and_save_plot(show=show, save=save, filename=\"4-plot.png\")"
   ]
  },
  {
   "cell_type": "code",
   "execution_count": 78,
   "metadata": {},
   "outputs": [
    {
     "name": "stdout",
     "output_type": "stream",
     "text": [
      "Help on function four_plot in module __main__:\n",
      "\n",
      "four_plot(series, main_title='4-PLOT', show=True, save=False, run_kws=None, lag_kws=None, hist_kws=None, prob_kws=None)\n",
      "\n"
     ]
    }
   ],
   "source": [
    "help(four_plot)"
   ]
  },
  {
   "cell_type": "code",
   "execution_count": 83,
   "metadata": {},
   "outputs": [
    {
     "name": "stderr",
     "output_type": "stream",
     "text": [
      "'c' argument looks like a single numeric RGB or RGBA sequence, which should be avoided as value-mapping will have precedence in case its length matches with 'x' & 'y'.  Please use a 2-D array with a single row if you really want to specify the same RGB or RGBA value for all points.\n"
     ]
    },
    {
     "data": {
      "image/png": "[encoded data removed]",
      "text/plain": [
       "<Figure size 504x576 with 4 Axes>"
      ]
     },
     "metadata": {},
     "output_type": "display_data"
    }
   ],
   "source": [
    "four_plot(residuals, run_kws={\"marker\": \"x\", \"color\": \"w\", \"markeredgecolor\": \"b\"},\n",
    "          lag_kws={\"marker\": \"x\", \"x_lim\": (-0.004, 0.004), \"y_lim\": (-0.004, 0.004)})"
   ]
  },
  {
   "cell_type": "markdown",
   "metadata": {},
   "source": [
    "The 4-plot does not indicate any significant problems with the ANOVA model.\n",
    "\n",
    "---\n",
    "\n",
    "## <a name=\"throughput\"></a>Throughput\n",
    "### Summary of Throughput\n",
    "The throughput is summarized in the following table (this was part of the original data collection, not the result of analysis).\n",
    "\n",
    "```\n",
    "    Machine   Day 1   Day 2   Day 3\n",
    "       1       576     604     583\n",
    "       2       657     604     586\n",
    "       3       510     546     571\n",
    "```\n",
    "\n",
    "This table shows that machine 3 had significantly lower throughput.\n",
    "\n",
    "### Graphical Representation of Throughput\n",
    "We can show the throughput graphically."
   ]
  },
  {
   "cell_type": "code",
   "execution_count": 90,
   "metadata": {},
   "outputs": [
    {
     "data": {
      "text/html": [
       "<div>\n",
       "<style scoped>\n",
       "    .dataframe tbody tr th:only-of-type {\n",
       "        vertical-align: middle;\n",
       "    }\n",
       "\n",
       "    .dataframe tbody tr th {\n",
       "        vertical-align: top;\n",
       "    }\n",
       "\n",
       "    .dataframe thead th {\n",
       "        text-align: right;\n",
       "    }\n",
       "</style>\n",
       "<table border=\"1\" class=\"dataframe\">\n",
       "  <thead>\n",
       "    <tr style=\"text-align: right;\">\n",
       "      <th></th>\n",
       "      <th>Machine</th>\n",
       "      <th>Day 1</th>\n",
       "      <th>Day 2</th>\n",
       "      <th>Day 3</th>\n",
       "    </tr>\n",
       "  </thead>\n",
       "  <tbody>\n",
       "    <tr>\n",
       "      <td>0</td>\n",
       "      <td>1</td>\n",
       "      <td>576</td>\n",
       "      <td>604</td>\n",
       "      <td>583</td>\n",
       "    </tr>\n",
       "    <tr>\n",
       "      <td>1</td>\n",
       "      <td>2</td>\n",
       "      <td>657</td>\n",
       "      <td>604</td>\n",
       "      <td>586</td>\n",
       "    </tr>\n",
       "    <tr>\n",
       "      <td>2</td>\n",
       "      <td>3</td>\n",
       "      <td>510</td>\n",
       "      <td>546</td>\n",
       "      <td>571</td>\n",
       "    </tr>\n",
       "  </tbody>\n",
       "</table>\n",
       "</div>"
      ],
      "text/plain": [
       "   Machine  Day 1  Day 2  Day 3\n",
       "0        1    576    604    583\n",
       "1        2    657    604    586\n",
       "2        3    510    546    571"
      ]
     },
     "execution_count": 90,
     "metadata": {},
     "output_type": "execute_result"
    }
   ],
   "source": [
    "throughput = {\"Machine\": [1, 2, 3],\n",
    "              \"Day 1\": [576, 657, 510],\n",
    "              \"Day 2\": [604, 604, 546],\n",
    "              \"Day 3\": [583, 586, 571]}\n",
    "throughput = pd.DataFrame(throughput)\n",
    "throughput"
   ]
  },
  {
   "cell_type": "code",
   "execution_count": 107,
   "metadata": {},
   "outputs": [
    {
     "data": {
      "image/png": "[encoded data removed]",
      "text/plain": [
       "<Figure size 432x288 with 1 Axes>"
      ]
     },
     "metadata": {},
     "output_type": "display_data"
    }
   ],
   "source": [
    "for i in range(1, 4):\n",
    "    plt.scatter(throughput[\"Machine\"], throughput[\"Day {}\".format(i)], marker=\"x\", c=\"k\")\n",
    "\n",
    "mean = throughput.iloc[:, 1:].values.ravel().mean()\n",
    "plt.axhline(y=mean)\n",
    "\n",
    "plt.xlabel(\"Machine\")\n",
    "plt.ylabel(\"Count\")\n",
    "plt.xticks(throughput.index+1)\n",
    "plt.title(\"Throughput by Machine\")\n",
    "\n",
    "plt.show()"
   ]
  },
  {
   "cell_type": "markdown",
   "metadata": {},
   "source": [
    "The graph clearly shows the lower throughput for machine 3.\n",
    "\n",
    "### Analysis of Variance for Throughput\n",
    "We can confirm the statistical significance of the lower throughput of machine 3 by running an analysis of variance. "
   ]
  },
  {
   "cell_type": "code",
   "execution_count": 108,
   "metadata": {},
   "outputs": [],
   "source": [
    "# PLACEHOLDER"
   ]
  },
  {
   "cell_type": "markdown",
   "metadata": {},
   "source": [
    "### Interpretation of ANOVA Output\n",
    "We summarize the level means for machine 3 in the following table. "
   ]
  },
  {
   "cell_type": "code",
   "execution_count": 109,
   "metadata": {},
   "outputs": [],
   "source": [
    "# PLACEHOLDER"
   ]
  },
  {
   "cell_type": "markdown",
   "metadata": {},
   "source": [
    "## <a name=\"conclusions\"></a>Final Conclusions\n",
    "The analysis shows that machines 1 and 2 had about the same variablity but significantly different locations. The throughput for machine 2 was also higher with greater variability than for machine 1. An interview with the operator revealed that he realized the second machine was not set correctly. However, he did not want to change the settings because he knew a study was being conducted and was afraid he might impact the results by making changes. Machine 3 had significantly more variation and lower throughput. The operator indicated that the machine had to be taken down several times for minor repairs. Given the preceeding analysis results, the team recommended replacing machine 3. \n",
    "\n",
    "---"
   ]
  }
 ],
 "metadata": {
  "kernelspec": {
   "display_name": "Python 3",
   "language": "python",
   "name": "python3"
  },
  "language_info": {
   "codemirror_mode": {
    "name": "ipython",
    "version": 3
   },
   "file_extension": ".py",
   "mimetype": "text/x-python",
   "name": "python",
   "nbconvert_exporter": "python",
   "pygments_lexer": "ipython3",
   "version": "3.7.4"
  }
 },
 "nbformat": 4,
 "nbformat_minor": 2
}
