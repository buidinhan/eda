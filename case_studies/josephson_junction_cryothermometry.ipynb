{
 "cells": [
  {
   "cell_type": "markdown",
   "metadata": {},
   "source": [
    "Source: https://www.itl.nist.gov/div898/handbook/eda/section4/eda424.htm"
   ]
  },
  {
   "cell_type": "markdown",
   "metadata": {},
   "source": [
    "## Preparation"
   ]
  },
  {
   "cell_type": "code",
   "execution_count": 1,
   "metadata": {},
   "outputs": [
    {
     "data": {
      "text/plain": [
       "'C:\\\\Users\\\\An PC\\\\jupyter\\\\eda'"
      ]
     },
     "execution_count": 1,
     "metadata": {},
     "output_type": "execute_result"
    }
   ],
   "source": [
    "import os\n",
    "os.chdir(\"..\")\n",
    "os.getcwd()"
   ]
  },
  {
   "cell_type": "code",
   "execution_count": 2,
   "metadata": {},
   "outputs": [],
   "source": [
    "import pandas as pd\n",
    "import numpy as np\n",
    "import matplotlib.pyplot as plt\n",
    "from scipy import stats\n",
    "import statsmodels.api as sm\n",
    "\n",
    "from utils import datasets\n",
    "from utils import calculations\n",
    "from utils.plotting import show_and_save_plot\n",
    "from plots import four_plot, run_sequence_plot, histogram, lag_plot, probability_plot, \\\n",
    "                  autocorrelation_plot"
   ]
  },
  {
   "cell_type": "markdown",
   "metadata": {},
   "source": [
    "---"
   ]
  },
  {
   "cell_type": "markdown",
   "metadata": {},
   "source": [
    "# Josephson Junction Cryothermometry\n",
    "This example illustrates the univariate analysis of Josephson junction cyrothermometry.\n",
    "1. [Background and Data](#background)\n",
    "2. [Graphical Output and Interpretation](#graphical)\n",
    "3. [Quantitative Output and Interpretation](#quantitative)\n",
    "\n",
    "---"
   ]
  },
  {
   "cell_type": "markdown",
   "metadata": {},
   "source": [
    "## <a name=\"background\"></a>Background and Data\n",
    "### Generation \n",
    "This data set was collected by Bob Soulen of NIST in October, 1971 as a sequence of observations collected equi-spaced in time from a volt meter to ascertain the process temperature in a Josephson junction cryothermometry (low temperature) experiment. The response variable is voltage counts.\n",
    "\n",
    "### Motivation\n",
    "The motivation for studying this data set is to illustrate the case where there is discreteness in the measurements, but the underlying assumptions hold. In this case, the discreteness is due to the data being integers.\n",
    "\n",
    "### Data source\n",
    "https://www.itl.nist.gov/div898/handbook/datasets/SOULEN.DAT"
   ]
  },
  {
   "cell_type": "code",
   "execution_count": 3,
   "metadata": {},
   "outputs": [
    {
     "data": {
      "text/html": [
       "<div>\n",
       "<style scoped>\n",
       "    .dataframe tbody tr th:only-of-type {\n",
       "        vertical-align: middle;\n",
       "    }\n",
       "\n",
       "    .dataframe tbody tr th {\n",
       "        vertical-align: top;\n",
       "    }\n",
       "\n",
       "    .dataframe thead th {\n",
       "        text-align: right;\n",
       "    }\n",
       "</style>\n",
       "<table border=\"1\" class=\"dataframe\">\n",
       "  <thead>\n",
       "    <tr style=\"text-align: right;\">\n",
       "      <th></th>\n",
       "      <th>y</th>\n",
       "    </tr>\n",
       "  </thead>\n",
       "  <tbody>\n",
       "    <tr>\n",
       "      <td>0</td>\n",
       "      <td>2899</td>\n",
       "    </tr>\n",
       "    <tr>\n",
       "      <td>1</td>\n",
       "      <td>2898</td>\n",
       "    </tr>\n",
       "    <tr>\n",
       "      <td>2</td>\n",
       "      <td>2898</td>\n",
       "    </tr>\n",
       "    <tr>\n",
       "      <td>3</td>\n",
       "      <td>2900</td>\n",
       "    </tr>\n",
       "    <tr>\n",
       "      <td>4</td>\n",
       "      <td>2898</td>\n",
       "    </tr>\n",
       "  </tbody>\n",
       "</table>\n",
       "</div>"
      ],
      "text/plain": [
       "      y\n",
       "0  2899\n",
       "1  2898\n",
       "2  2898\n",
       "3  2900\n",
       "4  2898"
      ]
     },
     "execution_count": 3,
     "metadata": {},
     "output_type": "execute_result"
    }
   ],
   "source": [
    "df = datasets.load_josephson_junction_cryothermometry()\n",
    "df.head()"
   ]
  },
  {
   "cell_type": "markdown",
   "metadata": {},
   "source": [
    "---"
   ]
  },
  {
   "cell_type": "markdown",
   "metadata": {},
   "source": [
    "## <a name=\"graphical\"></a>Graphical Output and Interpretation\n",
    "### Goal\n",
    "The goal of this analysis is threefold:\n",
    "1. Determine if the univariate model: $Y_i=C+E_i$ is appropriate and valid.\n",
    "2. Determine if the typical underlying assumptions for an \"in control\" measurement process are valid. These assumptions are:\n",
    "    * random drawings;\n",
    "    * from a fixed distribution;\n",
    "    * with the distribution having a fixed location; and\n",
    "    * the distribution having a fixed scale. \n",
    "3. Determine if the confidence interval $\\bar{Y}\\pm\\frac{2s}{\\sqrt{N}}$ is appropriate and valid where $s$ is the standard deviation of the original data.\n",
    "\n",
    "### 4-Plot of Data"
   ]
  },
  {
   "cell_type": "code",
   "execution_count": 4,
   "metadata": {},
   "outputs": [],
   "source": [
    "def four_plot(series, main_title=\"4-PLOT\", show=True, save=False,\n",
    "              run_kws=None, lag_kws=None, hist_kws=None, prob_kws=None):\n",
    "\n",
    "    fig, axes = plt.subplots(nrows=2, ncols=2,\n",
    "                             gridspec_kw={\n",
    "                                 \"left\": 0.1, \"right\": 0.98,\n",
    "                                 \"top\": 0.9, \"bottom\": 0.1,\n",
    "                                 \"wspace\": 0.3, \"hspace\": 0.3,\n",
    "                                 },\n",
    "                             figsize=(7, 8))\n",
    "    rsp, lag = axes[0]\n",
    "    hist, prob = axes[1]\n",
    "    \n",
    "    # Run Sequence Plot\n",
    "    run_kws = run_kws if run_kws is not None else {}\n",
    "    clearance = (max(series)-min(series)) * 1/10\n",
    "    y_lim = (min(series)-clearance, max(series)+clearance)\n",
    "    run_sequence_plot(series, y_lim=y_lim, ax=rsp, show=False, **run_kws)\n",
    "\n",
    "    # Lag Plot\n",
    "    lag_kws = lag_kws if lag_kws is not None else {}\n",
    "    lag_plot(series, ax=lag, show=False, **lag_kws)\n",
    "    \n",
    "    # Histogram\n",
    "    hist_kws = hist_kws if hist_kws is not None else {}\n",
    "    histogram(series, ax=hist, show=False, **hist_kws)\n",
    "\n",
    "    # Probability Plot\n",
    "    prob_kws = prob_kws if prob_kws is not None else {}\n",
    "    probability_plot(series, ax=prob, show=False, **prob_kws)\n",
    "    \n",
    "    fig.suptitle(main_title)\n",
    "    \n",
    "    show_and_save_plot(show=show, save=save, filename=\"4-plot.png\")"
   ]
  },
  {
   "cell_type": "code",
   "execution_count": 5,
   "metadata": {},
   "outputs": [
    {
     "data": {
      "image/png": "[encoded data removed]",
      "text/plain": [
       "<Figure size 504x576 with 4 Axes>"
      ]
     },
     "metadata": {
      "needs_background": "light"
     },
     "output_type": "display_data"
    }
   ],
   "source": [
    "four_plot(df[\"y\"], main_title=\"Voltage Counts: 4-Plot\")"
   ]
  },
  {
   "cell_type": "markdown",
   "metadata": {},
   "source": [
    "### Interpretation\n",
    "The assumptions are addressed by the graphics shown above:\n",
    "1. The run sequence plot (upper left) indicates that the data do not have any significant shifts in location or scale over time.\n",
    "2. The lag plot (upper right) does not indicate any non-random pattern in the data.\n",
    "3. The histogram (lower left) shows that the data are reasonably symmetric, there does not appear to be significant outliers in the tails, and that it is reasonable to assume that the data can be fit with a normal distribution.\n",
    "4. The normal probability plot (lower right) is difficult to interpret due to the fact that there are only a few distinct values with many repeats. \n",
    "\n",
    "The integer data with only a few distinct values and many repeats accounts for the discrete appearance of several of the plots (e.g., the lag plot and the normal probability plot). In this case, the nature of the data makes the normal probability plot difficult to interpret, especially since each number is repeated many times. However, the histogram indicates that a normal distribution should provide an adequate model for the data.\n",
    "\n",
    "From the above plots, we conclude that the underlying assumptions are valid and the data can be reasonably approximated with a normal distribution. Therefore, the commonly used uncertainty standard is valid and appropriate. The numerical values for this model are given in the [Quantitative Output and Interpretation](#quantitative) section.\n",
    "\n",
    "### Individual Plots\n",
    "Although it is normally not necessary, the plots can be generated individually to give more detail.\n",
    "\n",
    "#### Run Sequence Plot"
   ]
  },
  {
   "cell_type": "code",
   "execution_count": 6,
   "metadata": {},
   "outputs": [
    {
     "data": {
      "image/png": "[encoded data removed]",
      "text/plain": [
       "<Figure size 432x288 with 1 Axes>"
      ]
     },
     "metadata": {
      "needs_background": "light"
     },
     "output_type": "display_data"
    }
   ],
   "source": [
    "run_sequence_plot(df[\"y\"], y_label=\"y\")"
   ]
  },
  {
   "cell_type": "markdown",
   "metadata": {},
   "source": [
    "#### Lag Plot"
   ]
  },
  {
   "cell_type": "code",
   "execution_count": 7,
   "metadata": {},
   "outputs": [
    {
     "data": {
      "image/png": "[encoded data removed]",
      "text/plain": [
       "<Figure size 432x288 with 1 Axes>"
      ]
     },
     "metadata": {
      "needs_background": "light"
     },
     "output_type": "display_data"
    }
   ],
   "source": [
    "lag_plot(df[\"y\"])"
   ]
  },
  {
   "cell_type": "markdown",
   "metadata": {},
   "source": [
    "#### Histogram (with overlaid Normal PDF)"
   ]
  },
  {
   "cell_type": "code",
   "execution_count": 8,
   "metadata": {},
   "outputs": [
    {
     "data": {
      "image/png": "[encoded data removed]",
      "text/plain": [
       "<Figure size 432x288 with 2 Axes>"
      ]
     },
     "metadata": {
      "needs_background": "light"
     },
     "output_type": "display_data"
    }
   ],
   "source": [
    "_, _, _ = histogram(df[\"y\"], bins=20, x_label=\"y\", plot_pdf=True, show_statistics=True)"
   ]
  },
  {
   "cell_type": "markdown",
   "metadata": {},
   "source": [
    "#### Normal Probability Plot "
   ]
  },
  {
   "cell_type": "code",
   "execution_count": 9,
   "metadata": {},
   "outputs": [
    {
     "data": {
      "image/png": "[encoded data removed]",
      "text/plain": [
       "<Figure size 432x288 with 1 Axes>"
      ]
     },
     "metadata": {
      "needs_background": "light"
     },
     "output_type": "display_data"
    }
   ],
   "source": [
    "_, _ = probability_plot(df[\"y\"], show_fitting=True)"
   ]
  },
  {
   "cell_type": "markdown",
   "metadata": {},
   "source": [
    "---"
   ]
  },
  {
   "cell_type": "markdown",
   "metadata": {},
   "source": [
    "## <a name=\"quantitative\"></a>Quantitative Output and Interpretation"
   ]
  },
  {
   "cell_type": "markdown",
   "metadata": {},
   "source": [
    "### Summary Statistics\n",
    "As a first step in the analysis, common summary statistics are computed from the data."
   ]
  },
  {
   "cell_type": "code",
   "execution_count": 10,
   "metadata": {},
   "outputs": [
    {
     "data": {
      "text/html": [
       "<div>\n",
       "<style scoped>\n",
       "    .dataframe tbody tr th:only-of-type {\n",
       "        vertical-align: middle;\n",
       "    }\n",
       "\n",
       "    .dataframe tbody tr th {\n",
       "        vertical-align: top;\n",
       "    }\n",
       "\n",
       "    .dataframe thead th {\n",
       "        text-align: right;\n",
       "    }\n",
       "</style>\n",
       "<table border=\"1\" class=\"dataframe\">\n",
       "  <thead>\n",
       "    <tr style=\"text-align: right;\">\n",
       "      <th></th>\n",
       "      <th>y</th>\n",
       "    </tr>\n",
       "  </thead>\n",
       "  <tbody>\n",
       "    <tr>\n",
       "      <td>count</td>\n",
       "      <td>700.000000</td>\n",
       "    </tr>\n",
       "    <tr>\n",
       "      <td>mean</td>\n",
       "      <td>2898.561429</td>\n",
       "    </tr>\n",
       "    <tr>\n",
       "      <td>std</td>\n",
       "      <td>1.304969</td>\n",
       "    </tr>\n",
       "    <tr>\n",
       "      <td>min</td>\n",
       "      <td>2895.000000</td>\n",
       "    </tr>\n",
       "    <tr>\n",
       "      <td>25%</td>\n",
       "      <td>2898.000000</td>\n",
       "    </tr>\n",
       "    <tr>\n",
       "      <td>50%</td>\n",
       "      <td>2899.000000</td>\n",
       "    </tr>\n",
       "    <tr>\n",
       "      <td>75%</td>\n",
       "      <td>2899.000000</td>\n",
       "    </tr>\n",
       "    <tr>\n",
       "      <td>max</td>\n",
       "      <td>2902.000000</td>\n",
       "    </tr>\n",
       "  </tbody>\n",
       "</table>\n",
       "</div>"
      ],
      "text/plain": [
       "                 y\n",
       "count   700.000000\n",
       "mean   2898.561429\n",
       "std       1.304969\n",
       "min    2895.000000\n",
       "25%    2898.000000\n",
       "50%    2899.000000\n",
       "75%    2899.000000\n",
       "max    2902.000000"
      ]
     },
     "execution_count": 10,
     "metadata": {},
     "output_type": "execute_result"
    }
   ],
   "source": [
    "df.describe()"
   ]
  },
  {
   "cell_type": "markdown",
   "metadata": {},
   "source": [
    "Because of the discrete nature of the data, we also compute the normal PPCC."
   ]
  },
  {
   "cell_type": "code",
   "execution_count": 11,
   "metadata": {},
   "outputs": [
    {
     "name": "stdout",
     "output_type": "stream",
     "text": [
      "Normal PPCC = 0.9748400935520328\n"
     ]
    }
   ],
   "source": [
    "_, results = stats.probplot(df[\"y\"], fit=True)\n",
    "slope, intercept, r = results\n",
    "print(\"Normal PPCC =\", r)"
   ]
  },
  {
   "cell_type": "markdown",
   "metadata": {},
   "source": [
    "### Location\n",
    "One way to quantify a change in location over time is to fit a straight line to the data using an index variable as the independent variable in the regression. For our data, we assume that data are in sequential run order and that the data were collected at equally spaced time intervals. In our regression, we use the index variable $X = 1, 2, ..., N$, where $N$ is the number of observations. If there is no significant drift in the location over time, the slope parameter should be zero. "
   ]
  },
  {
   "cell_type": "code",
   "execution_count": 12,
   "metadata": {},
   "outputs": [],
   "source": [
    "Y = df[\"y\"]\n",
    "X = df.index.values + 1\n",
    "X = sm.add_constant(X)"
   ]
  },
  {
   "cell_type": "code",
   "execution_count": 13,
   "metadata": {},
   "outputs": [
    {
     "name": "stdout",
     "output_type": "stream",
     "text": [
      "                            OLS Regression Results                            \n",
      "==============================================================================\n",
      "Dep. Variable:                      y   R-squared:                       0.028\n",
      "Model:                            OLS   Adj. R-squared:                  0.026\n",
      "Method:                 Least Squares   F-statistic:                     19.76\n",
      "Date:                Mon, 30 Sep 2019   Prob (F-statistic):           1.02e-05\n",
      "Time:                        19:58:04   Log-Likelihood:                -1169.3\n",
      "No. Observations:                 700   AIC:                             2343.\n",
      "Df Residuals:                     698   BIC:                             2352.\n",
      "Df Model:                           1                                         \n",
      "Covariance Type:            nonrobust                                         \n",
      "==============================================================================\n",
      "                 coef    std err          t      P>|t|      [0.025      0.975]\n",
      "------------------------------------------------------------------------------\n",
      "const       2898.1861      0.097   2.97e+04      0.000    2897.995    2898.377\n",
      "x1             0.0011      0.000      4.445      0.000       0.001       0.002\n",
      "==============================================================================\n",
      "Omnibus:                        1.380   Durbin-Watson:                   1.407\n",
      "Prob(Omnibus):                  0.502   Jarque-Bera (JB):                1.347\n",
      "Skew:                           0.022   Prob(JB):                        0.510\n",
      "Kurtosis:                       2.790   Cond. No.                         810.\n",
      "==============================================================================\n",
      "\n",
      "Warnings:\n",
      "[1] Standard Errors assume that the covariance matrix of the errors is correctly specified.\n"
     ]
    }
   ],
   "source": [
    "model = sm.OLS(Y, X)\n",
    "results = model.fit()\n",
    "print(results.summary())"
   ]
  },
  {
   "cell_type": "code",
   "execution_count": 14,
   "metadata": {},
   "outputs": [
    {
     "name": "stdout",
     "output_type": "stream",
     "text": [
      "Residual Standard Deviation = 1.2878024734193994\n",
      "Residual Degrees of Freedom = 698.0\n"
     ]
    }
   ],
   "source": [
    "SSR = np.sqrt(results.mse_resid)\n",
    "print(\"Residual Standard Deviation =\", SSR)\n",
    "print(\"Residual Degrees of Freedom =\", results.df_resid)"
   ]
  },
  {
   "cell_type": "markdown",
   "metadata": {},
   "source": [
    "The absolute value of the *t*-value for the slope parameter is smaller than the critical value of $t_{0.975, 498} = 1.96$. Thus, we conclude that the slope is not different from zero at the 0.05 significance level."
   ]
  },
  {
   "cell_type": "markdown",
   "metadata": {},
   "source": [
    "### Variation\n",
    "One simple way to detect a change in variation is with a __Bartlett test__ after dividing the data set into several equal-sized intervals. However, the Bartlett test is not robust for non-normality. Since the nature of the data (a few distinct points repeated many times) makes the normality assumption questionable, we use the alternative Levene test. In particular, we use the __Levene test__ based on the median rather the mean. The choice of the number of intervals is somewhat arbitrary, although values of four or eight are reasonable. We will divide our data into four intervals. "
   ]
  },
  {
   "cell_type": "code",
   "execution_count": 15,
   "metadata": {},
   "outputs": [
    {
     "name": "stdout",
     "output_type": "stream",
     "text": [
      "700\n",
      "175\n",
      "175\n",
      "175\n",
      "175\n"
     ]
    }
   ],
   "source": [
    "Y = df[\"y\"]\n",
    "G1, G2, G3, G4 = Y[:175], Y[175:350], Y[350:525], Y[525:]\n",
    "for G in (Y, G1, G2, G3, G4):\n",
    "    print(len(G))"
   ]
  },
  {
   "cell_type": "markdown",
   "metadata": {},
   "source": [
    "Null and alternative hypothesis\n",
    "\n",
    "$H_0$:  $\\sigma_1^2 = \\sigma_2^2 = \\sigma_3^2 = \\sigma_4^2$\n",
    "\n",
    "$H_a$:  At least one $\\sigma_i^2$ is not equal to the others."
   ]
  },
  {
   "cell_type": "code",
   "execution_count": 16,
   "metadata": {},
   "outputs": [
    {
     "name": "stdout",
     "output_type": "stream",
     "text": [
      "Test statistic = 1.4323661190526964\n",
      "p-value = 0.2320983109427649\n"
     ]
    }
   ],
   "source": [
    "W, p_value = stats.levene(G1, G2, G3, G4)\n",
    "print(\"Test statistic =\", W)\n",
    "print(\"p-value =\", p_value)"
   ]
  },
  {
   "cell_type": "markdown",
   "metadata": {},
   "source": [
    "In this case, Levene test indicates that the variances are not significantly different in the four intervals."
   ]
  },
  {
   "cell_type": "markdown",
   "metadata": {},
   "source": [
    "### Randomness\n",
    "here are many ways in which data can be non-random. However, most common forms of non-randomness can be detected with a few simple tests. The lag plot in the previous section is a simple graphical technique.\n",
    "\n",
    "Another check is an autocorrelation plot that shows the autocorrelations for various lags. Confidence bands can be plotted at the 95 % and 99 % confidence levels. Points outside this band indicate statistically significant values (lag 0 is always 1)."
   ]
  },
  {
   "cell_type": "code",
   "execution_count": 17,
   "metadata": {},
   "outputs": [
    {
     "data": {
      "image/png": "[encoded data removed]",
      "text/plain": [
       "<Figure size 432x288 with 1 Axes>"
      ]
     },
     "metadata": {
      "needs_background": "light"
     },
     "output_type": "display_data"
    },
    {
     "name": "stdout",
     "output_type": "stream",
     "text": [
      "lag = 0, autocorrelation coefficient = 1.000\n",
      "lag = 1, autocorrelation coefficient = 0.315\n",
      "lag = 2, autocorrelation coefficient = 0.333\n",
      "lag = 3, autocorrelation coefficient = 0.293\n",
      "lag = 4, autocorrelation coefficient = 0.331\n"
     ]
    }
   ],
   "source": [
    "coefs, _, _ = autocorrelation_plot(df[\"y\"], max_lag=180, c=\"green\", marker=\".\")\n",
    "for lag, coef in enumerate(coefs[:5]):\n",
    "    print(\"lag = {}, autocorrelation coefficient = {:.3f}\".format(lag, coef))"
   ]
  },
  {
   "cell_type": "markdown",
   "metadata": {},
   "source": [
    "The lag 1 autocorrelation, which is generally the one of most interest, is 0.315. The critical values at the 5 % level of significance are -0.087 and 0.087. This indicates that the lag 1 autocorrelation is statistically significant, so there is some evidence for non-randomness.\n",
    "\n",
    "A common test for randomness is the [Bardley runs test](https://www.itl.nist.gov/div898/handbook/eda/section3/eda35d.htm).\n",
    "\n",
    "*Hypotheses*\n",
    "\n",
    ">$H_0$:  the sequence was produced in a random manner\n",
    ">\n",
    ">$H_a$:  the sequence was not produced in a random manner\n",
    "\n",
    "*Results*\n",
    "\n",
    "> Test statistic: $Z = -13.4162$\n",
    ">\n",
    "> Significance level: $\\alpha = 0.05$\n",
    ">\n",
    "> Critical value: $Z_{1-\\frac{\\alpha}{2}} = 1.96$\n",
    ">\n",
    "> Critical region:  Reject $H_0$ if $|{Z}| \\gt 1.96$ \n",
    "\n",
    "The runs test indicates non-randomness.\n",
    "\n",
    "Although the runs test and lag 1 autocorrelation indicate some mild non-randomness, it is not sufficient to reject the $Y_i = C + E_i$ model. At least part of the non-randomness can be explained by the discrete nature of the data.\n",
    "\n",
    "### Distributional Analysis\n",
    "Probability plots are a graphical test for assessing if a particular distribution provides an adequate fit to a data set.\n",
    "\n",
    "A quantitative enhancement to the probability plot is the correlation coefficient of the points on the probability plot, or PPCC. For this data set the PPCC based on a normal distribution is 0.975. Since the PPCC is less than the critical value of 0.987 (this is a tabulated value), the normality assumption is rejected.\n",
    "\n",
    "Chi-square and Kolmogorov-Smirnov goodness-of-fit tests are alternative methods for assessing distributional adequacy. The Wilk-Shapiro and Anderson-Darling tests can be used to test for normality. The results of the Anderson-Darling test follow. "
   ]
  },
  {
   "cell_type": "code",
   "execution_count": 18,
   "metadata": {},
   "outputs": [
    {
     "name": "stdout",
     "output_type": "stream",
     "text": [
      "AD statistic = 16.763401885719645\n",
      "Critical value = 0.573 at significance level = 15.0\n",
      "Critical value = 0.652 at significance level = 10.0\n",
      "Critical value = 0.783 at significance level = 5.0\n",
      "Critical value = 0.913 at significance level = 2.5\n",
      "Critical value = 1.086 at significance level = 1.0\n"
     ]
    }
   ],
   "source": [
    "statistic, critical_values, significance_levels = stats.anderson(df[\"y\"])\n",
    "print(\"AD statistic =\", statistic)\n",
    "for level, crit in zip(significance_levels, critical_values):\n",
    "    print(\"Critical value = {} at significance level = {}\".format(crit, level))"
   ]
  },
  {
   "cell_type": "markdown",
   "metadata": {},
   "source": [
    "The Anderson-Darling test rejects the normality assumption at the 0.05 significance level.\n",
    "\n",
    "### Outlier Analysis\n",
    "A test for outliers is the [Grubbs test](https://www.itl.nist.gov/div898/handbook/eda/section3/eda35h.htm).\n",
    "\n",
    "*Hypotheses*\n",
    "\n",
    ">$H_0$: there are no outliers in the data\n",
    ">\n",
    ">$H_a$: the maximum value is an outlier\n",
    "\n",
    "*Results*\n",
    "\n",
    ">Test statistic:  $G = 2.729201$\n",
    ">\n",
    ">Significance level: $\\alpha = 0.05$\n",
    ">\n",
    ">Critical value for an upper one-tailed test: $G_{crit}=3.863087$\n",
    ">\n",
    ">Critical region: Reject $H_0$ if $G\\gt3.863087$\n",
    "\n",
    "For this data set, Grubbs' test does not detect any outliers at the 0.05 significance level. "
   ]
  },
  {
   "cell_type": "code",
   "execution_count": 19,
   "metadata": {},
   "outputs": [
    {
     "name": "stdout",
     "output_type": "stream",
     "text": [
      "Requirement already satisfied: outlier_utils in c:\\users\\an pc\\jupyter\\.venv\\lib\\site-packages (0.0.3)\n"
     ]
    }
   ],
   "source": [
    "!pip install outlier_utils\n",
    "from outliers import smirnov_grubbs as grubbs"
   ]
  },
  {
   "cell_type": "code",
   "execution_count": 20,
   "metadata": {},
   "outputs": [
    {
     "name": "stdout",
     "output_type": "stream",
     "text": [
      "The maximum value is not an outlier.\n"
     ]
    },
    {
     "name": "stderr",
     "output_type": "stream",
     "text": [
      "c:\\users\\an pc\\jupyter\\.venv\\lib\\site-packages\\outliers\\smirnov_grubbs.py:185: FutureWarning: \n",
      "The current behaviour of 'Series.argmax' is deprecated, use 'idxmax'\n",
      "instead.\n",
      "The behavior of 'argmax' will be corrected to return the positional\n",
      "maximum in the future. For now, use 'series.values.argmax' or\n",
      "'np.argmax(np.array(values))' to get the position of the maximum\n",
      "row.\n",
      "  return data.argmax()\n"
     ]
    }
   ],
   "source": [
    "outliers = grubbs.max_test_outliers(df[\"y\"], alpha=0.05)\n",
    "if len(outliers) == 0:\n",
    "    print(\"The maximum value is not an outlier.\")\n",
    "else:\n",
    "    print(\"Outliers:\", outliers)"
   ]
  },
  {
   "cell_type": "markdown",
   "metadata": {},
   "source": [
    "### Model\n",
    "Although the randomness and normality assumptions were mildly violated, we conclude that a reasonable model for the data is:$Y_i=2898.7+E_i$. In addition, a 95 % confidence interval for the mean value is (2898.515, 2898.928).\n",
    "\n",
    "### Univariate Report\n",
    "It is sometimes useful and convenient to summarize the above results in a report.\n",
    "\n",
    ">__Analysis for Josephson Junction Cryothermometry Data__\n",
    ">\n",
    ">\n",
    ">1. Sample Size                           = 700\n",
    ">\n",
    ">\n",
    ">2. Location\n",
    ">\n",
    ">\n",
    ">* Mean                                  = 2898.562\n",
    ">* Standard Deviation of Mean            = 0.049323\n",
    ">* 95% Confidence Interval for Mean      = (2898.465,2898.658)\n",
    ">* Drift with respect to location?       = YES (Further analysis indicates that the drift, while statistically significant, is not practically significant)\n",
    ">\n",
    ">\n",
    ">3. Variation\n",
    ">\n",
    ">\n",
    ">* Standard Deviation                    = 1.30497\n",
    ">* 95% Confidence Interval for SD        = (1.240007,1.377169)\n",
    ">* Drift with respect to variation? (based on Levene's test on quarters of the data) = NO\n",
    ">\n",
    ">\n",
    ">4. Distribution\n",
    ">\n",
    ">\n",
    ">* Normal PPCC                           = 0.97484\n",
    ">* Normal Anderson-Darling               = 16.7634\n",
    ">* Data are Normal? (as tested by Normal PPCC)          = NO\n",
    ">* Data are Normal? (as tested by Normal PPCC)          = NO\n",
    ">\n",
    ">\n",
    ">5. Randomness\n",
    ">\n",
    ">\n",
    ">* Autocorrelation                       = 0.314802\n",
    ">* Data are Random? (as measured by autocorrelation)    = NO\n",
    ">\n",
    ">\n",
    ">6. Statistical Control (i.e., no drift in location or scale, data are random, distribution is \n",
    "    fixed, here we are testing only for fixed normal)\n",
    ">\n",
    ">\n",
    ">* Data Set is in Statistical Control?   = NO\n",
    ">\n",
    ">\n",
    ">*Note:* Although we have violations of the assumptions, they are mild enough, and at least partially explained by the discrete nature of the data, so we may model the data as if it were in statistical control.\n",
    ">\n",
    ">\n",
    ">7. Outliers? (as determined by Grubbs test)        = NO\n",
    "\n",
    "---"
   ]
  }
 ],
 "metadata": {
  "kernelspec": {
   "display_name": "Python 3",
   "language": "python",
   "name": "python3"
  },
  "language_info": {
   "codemirror_mode": {
    "name": "ipython",
    "version": 3
   },
   "file_extension": ".py",
   "mimetype": "text/x-python",
   "name": "python",
   "nbconvert_exporter": "python",
   "pygments_lexer": "ipython3",
   "version": "3.7.4"
  }
 },
 "nbformat": 4,
 "nbformat_minor": 2
}
