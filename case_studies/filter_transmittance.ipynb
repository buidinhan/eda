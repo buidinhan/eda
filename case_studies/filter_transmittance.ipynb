{
 "cells": [
  {
   "cell_type": "markdown",
   "metadata": {},
   "source": [
    "Source: https://www.itl.nist.gov/div898/handbook/eda/section4/eda426.htm"
   ]
  },
  {
   "cell_type": "markdown",
   "metadata": {},
   "source": [
    "## Preparation"
   ]
  },
  {
   "cell_type": "code",
   "execution_count": 1,
   "metadata": {},
   "outputs": [
    {
     "data": {
      "text/plain": [
       "'C:\\\\Users\\\\An PC\\\\jupyter\\\\eda'"
      ]
     },
     "execution_count": 1,
     "metadata": {},
     "output_type": "execute_result"
    }
   ],
   "source": [
    "import os\n",
    "os.chdir(\"..\")\n",
    "os.getcwd()"
   ]
  },
  {
   "cell_type": "code",
   "execution_count": 2,
   "metadata": {},
   "outputs": [],
   "source": [
    "import pandas as pd\n",
    "import numpy as np\n",
    "import matplotlib.pyplot as plt\n",
    "from scipy import stats\n",
    "import statsmodels.api as sm\n",
    "\n",
    "from utils import datasets\n",
    "from utils import calculations\n",
    "from utils.plotting import show_and_save_plot\n",
    "from plots import four_plot, run_sequence_plot, histogram, lag_plot, probability_plot, \\\n",
    "                  autocorrelation_plot"
   ]
  },
  {
   "cell_type": "markdown",
   "metadata": {},
   "source": [
    "---"
   ]
  },
  {
   "cell_type": "markdown",
   "metadata": {},
   "source": [
    "# Filter Transmittance\n",
    "This example illustrates the univariate analysis of filter transmittance data.\n",
    "1. [Background and Data](#background)\n",
    "2. [Graphical Output and Interpretation](#graphical)\n",
    "3. [Quantitative Output and Interpretation](#quantitative)\n",
    "\n",
    "---"
   ]
  },
  {
   "cell_type": "markdown",
   "metadata": {},
   "source": [
    "## <a name=\"background\"></a>Background and Data\n",
    "### Generation \n",
    "This data set was collected by NIST chemist Radu Mavrodineaunu in the 1970's from an automatic data acquisition system for a filter transmittance experiment. The response variable is transmittance.\n",
    "\n",
    "### Motivation\n",
    "The motivation for studying this data set is to show how the underlying autocorrelation structure in a relatively small data set helped the scientist detect problems with his automatic data acquisition system.\n",
    "\n",
    "### Data source\n",
    "https://www.itl.nist.gov/div898/handbook/datasets/MAVRO.DAT"
   ]
  },
  {
   "cell_type": "code",
   "execution_count": 3,
   "metadata": {},
   "outputs": [
    {
     "data": {
      "text/html": [
       "<div>\n",
       "<style scoped>\n",
       "    .dataframe tbody tr th:only-of-type {\n",
       "        vertical-align: middle;\n",
       "    }\n",
       "\n",
       "    .dataframe tbody tr th {\n",
       "        vertical-align: top;\n",
       "    }\n",
       "\n",
       "    .dataframe thead th {\n",
       "        text-align: right;\n",
       "    }\n",
       "</style>\n",
       "<table border=\"1\" class=\"dataframe\">\n",
       "  <thead>\n",
       "    <tr style=\"text-align: right;\">\n",
       "      <th></th>\n",
       "      <th>transmittance</th>\n",
       "    </tr>\n",
       "  </thead>\n",
       "  <tbody>\n",
       "    <tr>\n",
       "      <td>0</td>\n",
       "      <td>2.0018</td>\n",
       "    </tr>\n",
       "    <tr>\n",
       "      <td>1</td>\n",
       "      <td>2.0017</td>\n",
       "    </tr>\n",
       "    <tr>\n",
       "      <td>2</td>\n",
       "      <td>2.0018</td>\n",
       "    </tr>\n",
       "    <tr>\n",
       "      <td>3</td>\n",
       "      <td>2.0019</td>\n",
       "    </tr>\n",
       "    <tr>\n",
       "      <td>4</td>\n",
       "      <td>2.0018</td>\n",
       "    </tr>\n",
       "  </tbody>\n",
       "</table>\n",
       "</div>"
      ],
      "text/plain": [
       "   transmittance\n",
       "0         2.0018\n",
       "1         2.0017\n",
       "2         2.0018\n",
       "3         2.0019\n",
       "4         2.0018"
      ]
     },
     "execution_count": 3,
     "metadata": {},
     "output_type": "execute_result"
    }
   ],
   "source": [
    "df = datasets.load_filter_transmittance()\n",
    "df.head()"
   ]
  },
  {
   "cell_type": "markdown",
   "metadata": {},
   "source": [
    "---\n",
    "\n",
    "## <a name=\"graphical\"></a>Graphical Output and Interpretation\n",
    "### Goal\n",
    "The goal of this analysis is threefold:\n",
    "1. Determine if the univariate model: $Y_i=C+E_i$ is appropriate and valid.\n",
    "2. Determine if the typical underlying assumptions for an \"in control\" measurement process are valid. These assumptions are:\n",
    "    * random drawings;\n",
    "    * from a fixed distribution;\n",
    "    * with the distribution having a fixed location; and\n",
    "    * the distribution having a fixed scale. \n",
    "3. Determine if the confidence interval $\\bar{Y}\\pm\\frac{2s}{\\sqrt{N}}$ is appropriate and valid where $s$ is the standard deviation of the original data.\n",
    "\n",
    "### 4-Plot of Data"
   ]
  },
  {
   "cell_type": "code",
   "execution_count": 4,
   "metadata": {},
   "outputs": [],
   "source": [
    "def four_plot(series, main_title=\"4-PLOT\", show=True, save=False,\n",
    "              run_kws=None, lag_kws=None, hist_kws=None, prob_kws=None):\n",
    "\n",
    "    fig, axes = plt.subplots(nrows=2, ncols=2,\n",
    "                             gridspec_kw={\n",
    "                                 \"left\": 0.1, \"right\": 0.98,\n",
    "                                 \"top\": 0.9, \"bottom\": 0.1,\n",
    "                                 \"wspace\": 0.3, \"hspace\": 0.3,\n",
    "                                 },\n",
    "                             figsize=(7, 8))\n",
    "    rsp, lag = axes[0]\n",
    "    hist, prob = axes[1]\n",
    "    \n",
    "    # Run Sequence Plot\n",
    "    run_kws = run_kws if run_kws is not None else {}\n",
    "    clearance = (max(series)-min(series)) * 1/10\n",
    "    y_lim = (min(series)-clearance, max(series)+clearance)\n",
    "    run_sequence_plot(series, y_lim=y_lim, ax=rsp, show=False, **run_kws)\n",
    "\n",
    "    # Lag Plot\n",
    "    lag_kws = lag_kws if lag_kws is not None else {}\n",
    "    lag_plot(series, ax=lag, show=False, **lag_kws)\n",
    "    \n",
    "    # Histogram\n",
    "    hist_kws = hist_kws if hist_kws is not None else {}\n",
    "    histogram(series, ax=hist, show=False, **hist_kws)\n",
    "\n",
    "    # Probability Plot\n",
    "    prob_kws = prob_kws if prob_kws is not None else {}\n",
    "    probability_plot(series, ax=prob, show=False, **prob_kws)\n",
    "    \n",
    "    fig.suptitle(main_title)\n",
    "    \n",
    "    show_and_save_plot(show=show, save=save, filename=\"4-plot.png\")"
   ]
  },
  {
   "cell_type": "code",
   "execution_count": 5,
   "metadata": {},
   "outputs": [
    {
     "data": {
      "image/png": "[encoded data removed]",
      "text/plain": [
       "<Figure size 504x576 with 4 Axes>"
      ]
     },
     "metadata": {
      "needs_background": "light"
     },
     "output_type": "display_data"
    }
   ],
   "source": [
    "four_plot(df[\"transmittance\"], main_title=\"Filter Transmittance Data: 4-Plot\",\n",
    "         lag_kws={\"x_lim\": (2.001, 2.003), \"y_lim\": (2.001, 2.003)})"
   ]
  },
  {
   "cell_type": "markdown",
   "metadata": {},
   "source": [
    "### Interpretation\n",
    "The assumptions are addressed by the graphics shown above:\n",
    "1. The run sequence plot (upper left) indicates a significant shift in location around *x* = 35.\n",
    "2. The linear appearance in the lag plot (upper right) indicates a non-random pattern in the data.\n",
    "3. Since the lag plot indicates significant non-randomness, we do not make any interpretation of either the histogram (lower left) or the normal probability plot (lower right). \n",
    "\n",
    "The serious violation of the non-randomness assumption means that the univariate model $Y_i=C+E_i$ is not valid. Given the linear appearance of the lag plot, the first step might be to consider a model of the type $Y_i=A_0+A_1.Y_{i-1}+E_i$. \n",
    "\n",
    "However, in this case discussions with the scientist revealed that non-randomness was entirely unexpected. An examination of the experimental process revealed that the sampling rate for the automatic data acquisition system was too fast. That is, the equipment did not have sufficient time to reset before the next sample started, resulting in the current measurement being contaminated by the previous measurement. The solution was to rerun the experiment allowing more time between samples.\n",
    "\n",
    "Simple graphical techniques can be quite effective in revealing unexpected results in the data. When this occurs, it is important to investigate whether the unexpected result is due to problems in the experiment and data collection or is indicative of unexpected underlying structure in the data. This determination cannot be made on the basis of statistics alone. The role of the graphical and statistical analysis is to detect problems or unexpected results in the data. Resolving the issues requires the knowledge of the scientist or engineer.\n",
    "\n",
    "### Individual Plots\n",
    "Although it is generally unnecessary, the plots can be generated individually to give more detail. Since the lag plot indicates significant non-randomness, we omit the distributional plots.\n",
    "\n",
    "#### Run Sequence Plot "
   ]
  },
  {
   "cell_type": "code",
   "execution_count": 6,
   "metadata": {},
   "outputs": [
    {
     "data": {
      "image/png": "[encoded data removed]",
      "text/plain": [
       "<Figure size 432x288 with 1 Axes>"
      ]
     },
     "metadata": {
      "needs_background": "light"
     },
     "output_type": "display_data"
    }
   ],
   "source": [
    "run_sequence_plot(df[\"transmittance\"], y_label=\"Transmittance\")"
   ]
  },
  {
   "cell_type": "markdown",
   "metadata": {},
   "source": [
    "#### Lag Plot"
   ]
  },
  {
   "cell_type": "code",
   "execution_count": 7,
   "metadata": {},
   "outputs": [
    {
     "data": {
      "image/png": "[encoded data removed]",
      "text/plain": [
       "<Figure size 432x288 with 1 Axes>"
      ]
     },
     "metadata": {
      "needs_background": "light"
     },
     "output_type": "display_data"
    }
   ],
   "source": [
    "lag_plot(df[\"transmittance\"], x_lim=(2.001, 2.003), y_lim=(2.001, 2.003))"
   ]
  },
  {
   "cell_type": "markdown",
   "metadata": {},
   "source": [
    "---\n",
    "\n",
    "## <a name=\"quantitative\"></a>Quantitative Output and Interpretation"
   ]
  },
  {
   "cell_type": "markdown",
   "metadata": {},
   "source": [
    "### Summary Statistics\n",
    "As a first step in the analysis, common summary statistics are computed from the data."
   ]
  },
  {
   "cell_type": "code",
   "execution_count": 8,
   "metadata": {},
   "outputs": [
    {
     "data": {
      "text/html": [
       "<div>\n",
       "<style scoped>\n",
       "    .dataframe tbody tr th:only-of-type {\n",
       "        vertical-align: middle;\n",
       "    }\n",
       "\n",
       "    .dataframe tbody tr th {\n",
       "        vertical-align: top;\n",
       "    }\n",
       "\n",
       "    .dataframe thead th {\n",
       "        text-align: right;\n",
       "    }\n",
       "</style>\n",
       "<table border=\"1\" class=\"dataframe\">\n",
       "  <thead>\n",
       "    <tr style=\"text-align: right;\">\n",
       "      <th></th>\n",
       "      <th>transmittance</th>\n",
       "    </tr>\n",
       "  </thead>\n",
       "  <tbody>\n",
       "    <tr>\n",
       "      <td>count</td>\n",
       "      <td>50.000000</td>\n",
       "    </tr>\n",
       "    <tr>\n",
       "      <td>mean</td>\n",
       "      <td>2.001856</td>\n",
       "    </tr>\n",
       "    <tr>\n",
       "      <td>std</td>\n",
       "      <td>0.000429</td>\n",
       "    </tr>\n",
       "    <tr>\n",
       "      <td>min</td>\n",
       "      <td>2.001300</td>\n",
       "    </tr>\n",
       "    <tr>\n",
       "      <td>25%</td>\n",
       "      <td>2.001500</td>\n",
       "    </tr>\n",
       "    <tr>\n",
       "      <td>50%</td>\n",
       "      <td>2.001800</td>\n",
       "    </tr>\n",
       "    <tr>\n",
       "      <td>75%</td>\n",
       "      <td>2.002100</td>\n",
       "    </tr>\n",
       "    <tr>\n",
       "      <td>max</td>\n",
       "      <td>2.002700</td>\n",
       "    </tr>\n",
       "  </tbody>\n",
       "</table>\n",
       "</div>"
      ],
      "text/plain": [
       "       transmittance\n",
       "count      50.000000\n",
       "mean        2.001856\n",
       "std         0.000429\n",
       "min         2.001300\n",
       "25%         2.001500\n",
       "50%         2.001800\n",
       "75%         2.002100\n",
       "max         2.002700"
      ]
     },
     "execution_count": 8,
     "metadata": {},
     "output_type": "execute_result"
    }
   ],
   "source": [
    "df.describe()"
   ]
  },
  {
   "cell_type": "markdown",
   "metadata": {},
   "source": [
    "### Location\n",
    "One way to quantify a change in location over time is to fit a straight line to the data using an index variable as the independent variable in the regression. For our data, we assume that data are in sequential run order and that the data were collected at equally spaced time intervals. In our regression, we use the index variable $X = 1, 2, ..., N$, where $N$ is the number of observations. If there is no significant drift in the location over time, the slope parameter should be zero. "
   ]
  },
  {
   "cell_type": "code",
   "execution_count": 9,
   "metadata": {},
   "outputs": [],
   "source": [
    "Y = df[\"transmittance\"]\n",
    "X = df.index.values + 1\n",
    "X = sm.add_constant(X)"
   ]
  },
  {
   "cell_type": "code",
   "execution_count": 10,
   "metadata": {},
   "outputs": [
    {
     "name": "stdout",
     "output_type": "stream",
     "text": [
      "                            OLS Regression Results                            \n",
      "==============================================================================\n",
      "Dep. Variable:          transmittance   R-squared:                       0.394\n",
      "Model:                            OLS   Adj. R-squared:                  0.381\n",
      "Method:                 Least Squares   F-statistic:                     31.15\n",
      "Date:                Mon, 30 Sep 2019   Prob (F-statistic):           1.09e-06\n",
      "Time:                        20:33:16   Log-Likelihood:                 329.75\n",
      "No. Observations:                  50   AIC:                            -655.5\n",
      "Df Residuals:                      48   BIC:                            -651.7\n",
      "Df Model:                           1                                         \n",
      "Covariance Type:            nonrobust                                         \n",
      "==============================================================================\n",
      "                 coef    std err          t      P>|t|      [0.025      0.975]\n",
      "------------------------------------------------------------------------------\n",
      "const          2.0014   9.69e-05   2.06e+04      0.000       2.001       2.002\n",
      "x1          1.847e-05   3.31e-06      5.582      0.000    1.18e-05    2.51e-05\n",
      "==============================================================================\n",
      "Omnibus:                       21.365   Durbin-Watson:                   0.149\n",
      "Prob(Omnibus):                  0.000   Jarque-Bera (JB):                4.234\n",
      "Skew:                          -0.242   Prob(JB):                        0.120\n",
      "Kurtosis:                       1.659   Cond. No.                         59.5\n",
      "==============================================================================\n",
      "\n",
      "Warnings:\n",
      "[1] Standard Errors assume that the covariance matrix of the errors is correctly specified.\n"
     ]
    }
   ],
   "source": [
    "model = sm.OLS(Y, X)\n",
    "results = model.fit()\n",
    "print(results.summary())"
   ]
  },
  {
   "cell_type": "code",
   "execution_count": 11,
   "metadata": {},
   "outputs": [
    {
     "name": "stdout",
     "output_type": "stream",
     "text": [
      "Residual Standard Deviation = 0.00033763168995702084\n",
      "Residual Degrees of Freedom = 48.0\n"
     ]
    }
   ],
   "source": [
    "SSR = np.sqrt(results.mse_resid)\n",
    "print(\"Residual Standard Deviation =\", SSR)\n",
    "print(\"Residual Degrees of Freedom =\", results.df_resid)"
   ]
  },
  {
   "cell_type": "markdown",
   "metadata": {},
   "source": [
    "The slope parameter, $B_1$, has a *t* value of 5.582, which is statistically significant. Although the estimated slope, 0.185E-04, is nearly zero, the range of data (2.0013 to 2.0027) is also very small. In this case, we conclude that there is drift in location, although it is relatively small.\n",
    "\n",
    "### Variation\n",
    "One simple way to detect a change in variation is with a __Bartlett test__ after dividing the data set into several equal-sized intervals. However, the Bartlett test is not robust for non-normality. Since the nature of the data (a few distinct points repeated many times) makes the normality assumption questionable, we use the alternative Levene test. In particular, we use the __Levene test__ based on the median rather the mean. The choice of the number of intervals is somewhat arbitrary, although values of four or eight are reasonable. We will divide our data into four intervals. "
   ]
  },
  {
   "cell_type": "code",
   "execution_count": 12,
   "metadata": {},
   "outputs": [
    {
     "name": "stdout",
     "output_type": "stream",
     "text": [
      "50\n",
      "13\n",
      "13\n",
      "12\n",
      "12\n"
     ]
    }
   ],
   "source": [
    "Y = df[\"transmittance\"]\n",
    "G1, G2, G3, G4 = Y[:13], Y[13:26], Y[26:38], Y[38:]\n",
    "for G in (Y, G1, G2, G3, G4):\n",
    "    print(len(G))"
   ]
  },
  {
   "cell_type": "markdown",
   "metadata": {},
   "source": [
    "Null and alternative hypothesis\n",
    "\n",
    "$H_0$:  $\\sigma_1^2 = \\sigma_2^2 = \\sigma_3^2 = \\sigma_4^2$\n",
    "\n",
    "$H_a$:  At least one $\\sigma_i^2$ is not equal to the others."
   ]
  },
  {
   "cell_type": "code",
   "execution_count": 13,
   "metadata": {},
   "outputs": [
    {
     "name": "stdout",
     "output_type": "stream",
     "text": [
      "Test statistic = 1.3799000256848102\n",
      "p-value = 0.2607857903093207\n"
     ]
    }
   ],
   "source": [
    "W, p_value = stats.levene(G1, G2, G3, G4)\n",
    "print(\"Test statistic =\", W)\n",
    "print(\"p-value =\", p_value)"
   ]
  },
  {
   "cell_type": "markdown",
   "metadata": {},
   "source": [
    "In this case, Levene test indicates that the variances are not significantly different in the four intervals at the 5% level.\n",
    "\n",
    "### Randomness\n",
    "here are many ways in which data can be non-random. However, most common forms of non-randomness can be detected with a few simple tests. The lag plot in the previous section is a simple graphical technique.\n",
    "\n",
    "Another check is an autocorrelation plot that shows the autocorrelations for various lags. Confidence bands can be plotted at the 95 % and 99 % confidence levels. Points outside this band indicate statistically significant values (lag 0 is always 1)."
   ]
  },
  {
   "cell_type": "code",
   "execution_count": 14,
   "metadata": {},
   "outputs": [
    {
     "data": {
      "image/png": "[encoded data removed]",
      "text/plain": [
       "<Figure size 432x288 with 1 Axes>"
      ]
     },
     "metadata": {
      "needs_background": "light"
     },
     "output_type": "display_data"
    },
    {
     "name": "stdout",
     "output_type": "stream",
     "text": [
      "lag = 0, autocorrelation coefficient = 1.000\n",
      "lag = 1, autocorrelation coefficient = 0.938\n",
      "lag = 2, autocorrelation coefficient = 0.841\n",
      "lag = 3, autocorrelation coefficient = 0.737\n",
      "lag = 4, autocorrelation coefficient = 0.629\n"
     ]
    }
   ],
   "source": [
    "coefs, _, _ = autocorrelation_plot(df[\"transmittance\"], max_lag=12, c=\"green\",\n",
    "                                   marker=\".\")\n",
    "for lag, coef in enumerate(coefs[:5]):\n",
    "    print(\"lag = {}, autocorrelation coefficient = {:.3f}\".format(lag, coef))"
   ]
  },
  {
   "cell_type": "markdown",
   "metadata": {},
   "source": [
    "The lag 1 autocorrelation, which is generally the one of most interest, is 0.938. The critical values at the 5% level are –0.277 and 0.277. This indicates that the lag 1 autocorrelation is statistically significant, so there is strong evidence of non-randomness.\n",
    "\n",
    "A common test for randomness is the [Bardley runs test](https://www.itl.nist.gov/div898/handbook/eda/section3/eda35d.htm).\n",
    "\n",
    "*Hypotheses*\n",
    "\n",
    ">$H_0$:  the sequence was produced in a random manner\n",
    ">\n",
    ">$H_a$:  the sequence was not produced in a random manner\n",
    "\n",
    "*Results*\n",
    "\n",
    "> Test statistic: $Z = -5.3246$\n",
    ">\n",
    "> Significance level: $\\alpha = 0.05$\n",
    ">\n",
    "> Critical value: $Z_{1-\\frac{\\alpha}{2}} = 1.96$\n",
    ">\n",
    "> Critical region:  Reject $H_0$ if $|{Z}| \\gt 1.96$ \n",
    "\n",
    "Because the test statistic is outside of the critical region, we reject the null hypothesis and conclude that the data are not random.\n",
    "\n",
    "### Distributional Analysis\n",
    "Since we rejected the randomness assumption, the distributional tests are not meaningful. Therefore, these quantitative tests are omitted. We also omit Grubbs' outlier test since it also assumes the data are approximately normally distributed.\n",
    "\n",
    "### Univariate Report\n",
    "It is sometimes useful and convenient to summarize the above results in a report.\n",
    "\n",
    ">__Analysis for Filter Transmittance Data__\n",
    ">\n",
    ">\n",
    ">1. Sample Size = 50\n",
    ">\n",
    ">\n",
    ">2. Location\n",
    ">\n",
    ">\n",
    ">* Mean = 2.001857\n",
    ">* Standard Deviation of Mean = 0.00006\n",
    ">* 95% Confidence Interval for Mean = (2.001735,2.001979)\n",
    ">* Drift with respect to location? = NO\n",
    ">\n",
    ">\n",
    ">3. Variation\n",
    ">\n",
    ">\n",
    ">* Standard Deviation = 0.00043\n",
    ">* 95% Confidence Interval for SD = (0.000359,0.000535)\n",
    ">* Change in variation? (based on Levene's test on quarters of the data) = NO\n",
    ">\n",
    ">\n",
    ">4. Distribution\n",
    ">Distributional tests omitted due to non-randomness of the data.\n",
    ">\n",
    ">\n",
    ">5. Randomness\n",
    ">\n",
    ">\n",
    ">* Lag One Autocorrelation = 0.937998\n",
    ">* Data are Random? (as measured by autocorrelation)    = NO\n",
    ">\n",
    ">\n",
    ">6. Statistical Control (i.e., no drift in location or scale, data are random, distribution is \n",
    "    fixed, here we are testing only for fixed normal)\n",
    ">\n",
    ">\n",
    ">* Data Set is in Statistical Control?   = NO\n",
    ">\n",
    ">\n",
    ">7. Outliers? (Grubbs' test omitted)                = NO\n",
    "\n",
    "---"
   ]
  }
 ],
 "metadata": {
  "kernelspec": {
   "display_name": "Python 3",
   "language": "python",
   "name": "python3"
  },
  "language_info": {
   "codemirror_mode": {
    "name": "ipython",
    "version": 3
   },
   "file_extension": ".py",
   "mimetype": "text/x-python",
   "name": "python",
   "nbconvert_exporter": "python",
   "pygments_lexer": "ipython3",
   "version": "3.7.4"
  }
 },
 "nbformat": 4,
 "nbformat_minor": 2
}
