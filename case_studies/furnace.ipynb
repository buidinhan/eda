{
 "cells": [
  {
   "cell_type": "markdown",
   "metadata": {},
   "source": [
    "Sources:\n",
    "\n",
    "https://www.itl.nist.gov/div898/handbook/ppc/section5/ppc51.htm\n",
    "\n",
    "https://www.itl.nist.gov/div898/handbook/pmc/section1/pmc16.htm\n",
    "\n",
    "https://support.minitab.com/en-us/minitab/19/help-and-how-to/quality-and-process-improvement/capability-analysis/how-to/capability-analysis/normal-capability-analysis/methods-and-formulas/overall-capability/#cpm"
   ]
  },
  {
   "cell_type": "markdown",
   "metadata": {},
   "source": [
    "## Preparation"
   ]
  },
  {
   "cell_type": "code",
   "execution_count": 1,
   "metadata": {},
   "outputs": [
    {
     "data": {
      "text/plain": [
       "'C:\\\\Users\\\\An PC\\\\jupyter\\\\eda'"
      ]
     },
     "execution_count": 1,
     "metadata": {},
     "output_type": "execute_result"
    }
   ],
   "source": [
    "import os\n",
    "os.chdir(\"..\")\n",
    "os.getcwd()"
   ]
  },
  {
   "cell_type": "code",
   "execution_count": 2,
   "metadata": {},
   "outputs": [],
   "source": [
    "import pandas as pd\n",
    "import numpy as np\n",
    "import matplotlib.pyplot as plt\n",
    "from scipy import stats\n",
    "import statsmodels.api as sm\n",
    "\n",
    "from utils import datasets\n",
    "from utils import calculations\n",
    "from utils.plotting import show_and_save_plot\n",
    "from plots import (run_sequence_plot, histogram, lag_plot, probability_plot, qq_plot,\n",
    "                   block_plot, box_plot, doe_scatter_plot, doe_scatter_matrix,\n",
    "                   doe_statistic_plot, doe_statistic_matrix)"
   ]
  },
  {
   "cell_type": "markdown",
   "metadata": {},
   "source": [
    "---\n",
    "\n",
    "# Furnace Case Study\n",
    "This case study analyzes a furnace oxide growth process.\n",
    "\n",
    "The case study is broken down into the following steps.\n",
    "\n",
    "1. [Background and Data](#background)\n",
    "2. [Initial Analysis of Response Variable](#initial_analysis)\n",
    "3. [Identify Sources of Variation](#sources_of_variation)\n",
    "4. [Analysis of Variance](#anova)\n",
    "5. [Final Conclusions](#conclusions)\n",
    "    \n",
    "---\n",
    "\n",
    "## <a name=\"background\"></a>Background and Data\n",
    "### Introduction\n",
    "In a semiconductor manufacturing process flow, we have a step whereby we grow an oxide film on the silicon wafer using a furnace. In this step, a cassette of wafers is placed in a quartz \"boat\" and the boats are placed in the furnace. The furnace can hold four boats. A gas flow is created in the furnace and it is brought up to temperature and held there for a specified period of time (which corresponds to the desired oxide thickness). This study was conducted to determine if the process was stable and to characterize sources of variation so that a process control strategy could be developed.\n",
    "\n",
    "### Goal\n",
    "The goal of this study is to determine if this process is capable of consistently growing oxide films with a thickness of $560 \\pm 100 \\text{ Angstroms}$. An additional goal is to determine important sources of variation for use in the development of a process control strategy. \n",
    "\n",
    "### Data source\n",
    "https://www.itl.nist.gov/div898/handbook/datasets/FURNACE.DAT\n",
    "\n",
    "### Process Model\n",
    "In the picture below we are modeling this process with one output (film thickness) that is influenced by four controlled factors (gas flow, pressure, temperature and time) and two uncontrolled factors (run and zone). The four controlled factors are part of our recipe and will remain constant throughout this study. We know that there is run-to-run variation that is due to many different factors (input material variation, variation in consumables, etc.). We also know that the different zones in the furnace have an effect. A zone is a region of the furnace tube that holds one boat. There are four zones in these tubes. The zones in the middle of the tube grow oxide a little bit differently from the ones on the ends. In fact, there are temperature offsets in the recipe to help minimize this problem.\n",
    "\n",
    "![](https://www.itl.nist.gov/div898/handbook/ppc/section5/Furnace/gifs/furnace1.gif)\n",
    "\n",
    "### Sensitivity Model\n",
    "The sensitivity model for this process is fairly straightforward and is given in the figure below. The effects of the machine are mostly related to the preventative maintenance (PM) cycle. We want to make sure the quartz tube has been cleaned recently, the mass flow controllers are in good shape and the temperature controller has been calibrated recently. The same is true of the measurement equipment where the thickness readings will be taken. We want to make sure a [gauge study](https://www.itl.nist.gov/div898/handbook/mpc/section4/mpc4.htm) has been performed. For material, the incoming wafers will certainly have an effect on the outgoing thickness as well as the quality of the gases used. Finally, the recipe will have an effect including gas flow, temperature offset for the different zones, and temperature profile (how quickly we raise the temperature, how long we hold it and how quickly we cool it off).\n",
    "\n",
    "![](https://www.itl.nist.gov/div898/handbook/ppc/section5/Furnace/gifs/furnace2.gif)\n",
    "\n",
    "### Sampling Plan\n",
    "Given our goal statement and process modeling, we can now define a sampling plan. The primary goal is to determine if the process is capable. This just means that we need to monitor the process over some period of time and compare the estimates of process location and spread to the specifications. An additional goal is to identify sources of variation to aid in setting up a process control strategy. Some obvious sources of variation are incoming wafers, run-to-run variability, variation due to operators or shift, and variation due to zones within a furnace tube. One additional constraint that we must work under is that this study should not have a significant impact on normal production operations.\n",
    "\n",
    "Given these constraints, the following sampling plan was selected. It was decided to monitor the process for one day (three shifts). Because this process is operator independent, we will not keep shift or operator information but just record run number. For each run, we will randomly assign cassettes of wafers to a zone. We will select two wafers from each zone after processing and measure two sites on each wafer. This plan should give reasonable estimates of run-to-run variation and within zone variability as well as good overall estimates of process location and spread.\n",
    "\n",
    "We are expecting readings around 560 Angstroms. We would not expect many readings above 700 or below 400. The measurement equipment is accurate to within 0.5 Angstroms which is well within the accuracy needed for this study.\n",
    "\n",
    "### Data\n",
    "The following are the data that were collected for this study. "
   ]
  },
  {
   "cell_type": "code",
   "execution_count": 3,
   "metadata": {},
   "outputs": [
    {
     "data": {
      "text/html": [
       "<div>\n",
       "<style scoped>\n",
       "    .dataframe tbody tr th:only-of-type {\n",
       "        vertical-align: middle;\n",
       "    }\n",
       "\n",
       "    .dataframe tbody tr th {\n",
       "        vertical-align: top;\n",
       "    }\n",
       "\n",
       "    .dataframe thead th {\n",
       "        text-align: right;\n",
       "    }\n",
       "</style>\n",
       "<table border=\"1\" class=\"dataframe\">\n",
       "  <thead>\n",
       "    <tr style=\"text-align: right;\">\n",
       "      <th></th>\n",
       "      <th>RUN</th>\n",
       "      <th>ZONE</th>\n",
       "      <th>WAFER</th>\n",
       "      <th>THICKNESS</th>\n",
       "    </tr>\n",
       "  </thead>\n",
       "  <tbody>\n",
       "    <tr>\n",
       "      <td>0</td>\n",
       "      <td>1</td>\n",
       "      <td>1</td>\n",
       "      <td>1</td>\n",
       "      <td>546</td>\n",
       "    </tr>\n",
       "    <tr>\n",
       "      <td>1</td>\n",
       "      <td>1</td>\n",
       "      <td>1</td>\n",
       "      <td>2</td>\n",
       "      <td>540</td>\n",
       "    </tr>\n",
       "    <tr>\n",
       "      <td>2</td>\n",
       "      <td>1</td>\n",
       "      <td>2</td>\n",
       "      <td>1</td>\n",
       "      <td>566</td>\n",
       "    </tr>\n",
       "    <tr>\n",
       "      <td>3</td>\n",
       "      <td>1</td>\n",
       "      <td>2</td>\n",
       "      <td>2</td>\n",
       "      <td>564</td>\n",
       "    </tr>\n",
       "    <tr>\n",
       "      <td>4</td>\n",
       "      <td>1</td>\n",
       "      <td>3</td>\n",
       "      <td>1</td>\n",
       "      <td>577</td>\n",
       "    </tr>\n",
       "    <tr>\n",
       "      <td>...</td>\n",
       "      <td>...</td>\n",
       "      <td>...</td>\n",
       "      <td>...</td>\n",
       "      <td>...</td>\n",
       "    </tr>\n",
       "    <tr>\n",
       "      <td>163</td>\n",
       "      <td>21</td>\n",
       "      <td>2</td>\n",
       "      <td>2</td>\n",
       "      <td>602</td>\n",
       "    </tr>\n",
       "    <tr>\n",
       "      <td>164</td>\n",
       "      <td>21</td>\n",
       "      <td>3</td>\n",
       "      <td>1</td>\n",
       "      <td>598</td>\n",
       "    </tr>\n",
       "    <tr>\n",
       "      <td>165</td>\n",
       "      <td>21</td>\n",
       "      <td>3</td>\n",
       "      <td>2</td>\n",
       "      <td>616</td>\n",
       "    </tr>\n",
       "    <tr>\n",
       "      <td>166</td>\n",
       "      <td>21</td>\n",
       "      <td>4</td>\n",
       "      <td>1</td>\n",
       "      <td>580</td>\n",
       "    </tr>\n",
       "    <tr>\n",
       "      <td>167</td>\n",
       "      <td>21</td>\n",
       "      <td>4</td>\n",
       "      <td>2</td>\n",
       "      <td>575</td>\n",
       "    </tr>\n",
       "  </tbody>\n",
       "</table>\n",
       "<p>168 rows × 4 columns</p>\n",
       "</div>"
      ],
      "text/plain": [
       "     RUN  ZONE  WAFER  THICKNESS\n",
       "0      1     1      1        546\n",
       "1      1     1      2        540\n",
       "2      1     2      1        566\n",
       "3      1     2      2        564\n",
       "4      1     3      1        577\n",
       "..   ...   ...    ...        ...\n",
       "163   21     2      2        602\n",
       "164   21     3      1        598\n",
       "165   21     3      2        616\n",
       "166   21     4      1        580\n",
       "167   21     4      2        575\n",
       "\n",
       "[168 rows x 4 columns]"
      ]
     },
     "execution_count": 3,
     "metadata": {},
     "output_type": "execute_result"
    }
   ],
   "source": [
    "df = datasets.load_furnace()\n",
    "df"
   ]
  },
  {
   "cell_type": "markdown",
   "metadata": {},
   "source": [
    "---\n",
    "\n",
    "## <a name=\"initial_analysis\"></a>Initial Analysis of Response Variable\n",
    "### Initial Plots of Response Variable\n",
    "The initial step is to assess data quality and to look for anomalies. This is done by generating a normal probability plot, a histogram, and a box plot. For convenience, these are generated on a single page."
   ]
  },
  {
   "cell_type": "code",
   "execution_count": 4,
   "metadata": {},
   "outputs": [
    {
     "data": {
      "image/png": "[encoded data removed]",
      "text/plain": [
       "<Figure size 504x576 with 5 Axes>"
      ]
     },
     "metadata": {
      "needs_background": "light"
     },
     "output_type": "display_data"
    }
   ],
   "source": [
    "fig, axes = plt.subplots(nrows=2, ncols=2,\n",
    "                         gridspec_kw={\n",
    "                                 \"left\": 0.1, \"right\": 0.98,\n",
    "                                 \"top\": 0.9, \"bottom\": 0.1,\n",
    "                                 \"wspace\": 0.3, \"hspace\": 0.3,\n",
    "                                 },\n",
    "                         figsize=(7, 8))\n",
    "prob, box = axes[0]\n",
    "hist, _ = axes[1]\n",
    "    \n",
    "probability_plot(df[\"THICKNESS\"], title=\"Normal Probability Plot\", ax=prob, show=False)\n",
    "\n",
    "histogram(df[\"THICKNESS\"], bins=25, x_label=\"Film Thickness\", y_label=\"Density\",\n",
    "          title=\"Relative Histogram\", ax=hist, plot_pdf=True, show=False, density=True)\n",
    "\n",
    "box.boxplot(df[\"THICKNESS\"])\n",
    "box.set_ylabel(\"Film Thickness\")\n",
    "box.set_title(\"Box Plot\")\n",
    "\n",
    "_.axis(\"off\")\n",
    "\n",
    "plt.show()"
   ]
  },
  {
   "cell_type": "markdown",
   "metadata": {},
   "source": [
    "### Conclusions From the Plots\n",
    "We can make the following conclusions based on these initial plots.\n",
    "\n",
    "\n",
    "* The box plot indicates one outlier. However, this outlier is only slightly smaller than the other numbers.\n",
    "\n",
    "\n",
    "* The normal probability plot and the histogram (with an overlaid normal density) indicate that this data set is reasonably approximated by a normal distribution. \n",
    "\n",
    "### Parameter Estimates\n",
    "Parameter estimates for the film thickness are as follows. "
   ]
  },
  {
   "cell_type": "code",
   "execution_count": 5,
   "metadata": {},
   "outputs": [],
   "source": [
    "mean = df[\"THICKNESS\"].mean()\n",
    "std = df[\"THICKNESS\"].std()\n",
    "n = len(df[\"THICKNESS\"])\n",
    "\n",
    "confidence_interval_of_mean = stats.t.interval(0.95, n-1, mean, std/np.sqrt(n))"
   ]
  },
  {
   "cell_type": "code",
   "execution_count": 6,
   "metadata": {},
   "outputs": [],
   "source": [
    "def confidence_interval_of_std(alpha, dof, std):\n",
    "    lower_limit = std * np.sqrt(dof/stats.chi2.ppf(1-alpha/2, dof))\n",
    "    upper_limit = std * np.sqrt(dof/stats.chi2.ppf(alpha/2, dof))\n",
    "    \n",
    "    return lower_limit, upper_limit"
   ]
  },
  {
   "cell_type": "code",
   "execution_count": 7,
   "metadata": {},
   "outputs": [
    {
     "name": "stdout",
     "output_type": "stream",
     "text": [
      "Mean = 563.0357142857143 , Confidence Interval = (559.169162782702, 566.9022657887267)\n",
      "Standard Deviation = 25.38467944223335 , Confidence Interval (22.929667837375742, 28.433063497684035)\n"
     ]
    }
   ],
   "source": [
    "print(\"Mean =\", mean, \", Confidence Interval =\", confidence_interval_of_mean)\n",
    "print(\"Standard Deviation =\", std, \", Confidence Interval\",\n",
    "      confidence_interval_of_std(0.05, n-1, std))"
   ]
  },
  {
   "cell_type": "markdown",
   "metadata": {},
   "source": [
    "### Quantiles\n",
    "Quantiles for the film thickness are summarized in the following table. "
   ]
  },
  {
   "cell_type": "code",
   "execution_count": 8,
   "metadata": {},
   "outputs": [
    {
     "name": "stdout",
     "output_type": "stream",
     "text": [
      "100.0%     634.0\n",
      " 99.5%     630.0\n",
      " 97.5%     611.0\n",
      " 90.0%     594.0\n",
      " 75.0%     582.5\n",
      " 50.0%     562.5\n",
      " 25.0%     546.5\n",
      " 10.0%     533.0\n",
      "  2.5%     517.5\n",
      "  0.5%     496.0\n",
      "  0.0%     487.0\n"
     ]
    }
   ],
   "source": [
    "percentages = np.array([100, 99.5, 97.5, 90, 75, 50, 25, 10, 2.5, 0.5, 0])\n",
    "for p in percentages:\n",
    "    print(\"{:>5}%    \".format(p), df[\"THICKNESS\"].quantile(p/100, interpolation=\"midpoint\"))"
   ]
  },
  {
   "cell_type": "markdown",
   "metadata": {},
   "source": [
    "### Capability Analysis\n",
    "From the above preliminary analysis, it looks reasonable to proceed with the [capability analysis](https://www.itl.nist.gov/div898/handbook/ppc/section4/ppc46.htm).\n",
    "\n",
    "![](https://www.itl.nist.gov/div898/handbook/ppc/section5/Furnace/gifs/capabili.jpg)\n",
    "\n",
    "The lower specification limit is 460, the upper specification limit is 660, and the target specification is 560.\n",
    "\n",
    "### Percent Defective\n",
    "We determine the percent defective (i.e., the number of items outside the specification limits) as follows. "
   ]
  },
  {
   "cell_type": "code",
   "execution_count": 9,
   "metadata": {},
   "outputs": [],
   "source": [
    "lsl, usl, target = 460, 660, 560"
   ]
  },
  {
   "cell_type": "code",
   "execution_count": 10,
   "metadata": {},
   "outputs": [
    {
     "name": "stdout",
     "output_type": "stream",
     "text": [
      "Percent below LSL:\n",
      "+ Actual: 0.0\n",
      "+ Theoretical: 0.0024644564783832842 \n",
      "\n",
      "Percent above USL:\n",
      "+ Actual: 0.0\n",
      "+ Theoretical: 0.006678116636316123 \n",
      "\n",
      "Combined percent below LSL and above USL:\n",
      "+ Actual: 0.0\n",
      "+ Theoretical: 0.009142573114699407\n"
     ]
    }
   ],
   "source": [
    "print(\"Percent below LSL:\")\n",
    "\n",
    "actual_percent_1 = len(df[df[\"THICKNESS\"]<lsl])/len(df)*100\n",
    "print(\"+ Actual:\", actual_percent_1)\n",
    "\n",
    "theoretical_percent_1 = 100*stats.norm.cdf(lsl, mean, std)\n",
    "print(\"+ Theoretical:\", theoretical_percent_1, \"\\n\")\n",
    "\n",
    "print(\"Percent above USL:\")\n",
    "\n",
    "actual_percent_2 = len(df[df[\"THICKNESS\"]>usl])/len(df)*100\n",
    "print(\"+ Actual:\", actual_percent_2)\n",
    "\n",
    "theoretical_percent_2 = 100*(1-stats.norm.cdf(usl, mean, std))\n",
    "print(\"+ Theoretical:\", theoretical_percent_2, \"\\n\")\n",
    "\n",
    "print(\"Combined percent below LSL and above USL:\")\n",
    "print(\"+ Actual:\", actual_percent_1+actual_percent_2)\n",
    "print(\"+ Theoretical:\", theoretical_percent_1+theoretical_percent_2)"
   ]
  },
  {
   "cell_type": "markdown",
   "metadata": {},
   "source": [
    "$$\\text{Theoretical percent below LSL = }100\\times\\Phi\\left(\\frac{LSL-\\bar{x}}{s}\\right)$$\n",
    "$$\\text{Theoretical percent above USL = }100\\times\\left[1-\\Phi\\left(\\frac{USL-\\bar{x}}{s}\\right)\\right]$$\n",
    "\n",
    "The value $\\Phi$ denotes the normal cumulative distribution function, $\\bar{x}$ the sample mean, and *s* the sample standard deviation.\n",
    "\n",
    "### Introduction to Capability Index Statistics\n",
    "There are several statistics that can be used to measure the capability of a process:  $C_\\mathrm{p}$, $C_\\mathrm{pk}$, and $C_\\mathrm{pm}$.\n",
    "\n",
    "Most capability indices estimates are valid only if the sample size used is \"large enough\". Large enough is generally thought to be about 50 independent data values. \n",
    "\n",
    "The $C_\\mathrm{p}$, $C_\\mathrm{pk}$, and $C_\\mathrm{pm}$ statistics assume that the population of data values is normally distributed. Assuming a two-sided specification, if $\\mu$ and $\\sigma$ are the mean and standard deviation, respectively, of the normal data and *USL*, *LSL*, and *T* are the upper and lower specification limits and the target value, respectively, then the population capability indices are defined as follows.\n",
    "\n",
    "#### Definitions of various process capability indices\n",
    "$$C_\\mathrm{p}=\\frac{USL-LSL}{6\\sigma}$$\n",
    "$$C_\\mathrm{pk}=\\min\\left(\\frac{USL-\\mu}{3\\sigma},\\frac{\\mu-LSL}{3\\sigma}\\right)$$\n",
    "$$C_\\mathrm{pm}=\\frac{USL-LSL}{6\\sqrt{\\sigma^2+(\\mu-T)^2}}$$\n",
    "\n",
    "#### Sample estimates of capability indices\n",
    "Sample estimators for these indices are given below. (Estimators are indicated with a \"hat\" over them).\n",
    "$$\\hat{C}_\\mathrm{p}=\\frac{USL-LSL}{6s}$$\n",
    "$$\\hat{C}_\\mathrm{pk}=\\min\\left(\\frac{USL-\\bar{x}}{3s},\\frac{\\bar{x}-LSL}{3s}\\right)$$\n",
    "$$\\hat{C}_\\mathrm{pm}=\\frac{USL-LSL}{6\\sqrt{s^2+(\\bar{x}-T)^2}}$$"
   ]
  },
  {
   "cell_type": "code",
   "execution_count": 11,
   "metadata": {},
   "outputs": [],
   "source": [
    "def Cp(series, LSL, USL):\n",
    "    mean = np.mean(series)\n",
    "    std = np.std(series, ddof=1)\n",
    "    \n",
    "    return np.abs(USL-LSL) / (6*std)\n",
    "\n",
    "\n",
    "def Cpk(series, LSL, USL):\n",
    "    mean = np.mean(series)\n",
    "    std = np.std(series, ddof=1)\n",
    "    \n",
    "    return min(np.abs(USL-mean), np.abs(mean-LSL)) / (3*std)\n",
    "\n",
    "\n",
    "def Cpm(series, LSL, USL, target):\n",
    "    mean = np.mean(series)\n",
    "    std = np.std(series, ddof=1)\n",
    "    \n",
    "    numerator = np.abs(USL-LSL)\n",
    "    denominator = 6 * np.sqrt(std**2 + (mean-target)**2)\n",
    "    \n",
    "    return numerator / denominator"
   ]
  },
  {
   "attachments": {},
   "cell_type": "markdown",
   "metadata": {},
   "source": [
    "#### Plot showing $C_\\mathrm{p}$ for varying process widths\n",
    "To get an idea of the value of the $C_\\mathrm{p}$ statistic for varying process widths, consider the following plot.\n",
    "\n",
    "![](https://www.itl.nist.gov/div898/handbook/pmc/section1/gifs/plotcp_r.gif)\n",
    "\n",
    "#### One-sided specifications and the corresponding capability indices\n",
    "We have discussed the situation with two specification limits, the *USL* and *LSL*. This is known as the bilateral or two-sided case. There are many cases where only the lower or upper specifications are used. Using one spec limit is called unilateral or one-sided. The corresponding capability indices are\n",
    "\t\n",
    "$$C_\\mathrm{pu}=\\frac{\\text{allowable upper spread}}{\\text{actual upper spread}}=\\frac{USL−\\mu}{3\\sigma}$$\n",
    "\n",
    "and\n",
    "\n",
    "$$C_\\mathrm{pl}=\\frac{\\text{allowable lower spread}}{\\text{actual lower spread}}=\\frac{\\mu−LSL}{3\\sigma},$$\n",
    "where $\\mu$ and $\\sigma$ are the process mean and standard deviation, respectively.\n",
    "\n",
    "Estimators of $C_\\mathrm{pu}$ and $C_\\mathrm{pl}$ are obtained by replacing $\\mu$ and $\\sigma$ by $\\bar{x}$ and *s*, respectively. The following relationship holds\n",
    "$$C_\\mathrm{p}=\\frac{C_\\mathrm{pu}+C_\\mathrm{pl}}{2}.$$\n",
    "\n",
    "This can be represented pictorially by\n",
    "![](https://www.itl.nist.gov/div898/handbook/pmc/section1/gifs/cpi3.gif)\n",
    "\n",
    "Note that we also can write:\n",
    "$$C_\\mathrm{pk}=\\min(C_\\mathrm{pl},C_\\mathrm{pu}).$$"
   ]
  },
  {
   "cell_type": "code",
   "execution_count": 12,
   "metadata": {},
   "outputs": [],
   "source": [
    "def Cpl(series, LSL):\n",
    "    mean = np.mean(series)\n",
    "    std = np.std(series, ddof=1)\n",
    "    \n",
    "    return np.abs(mean-LSL) / (3*std)\n",
    "\n",
    "\n",
    "def Cpu(series, USL):\n",
    "    mean = np.mean(series)\n",
    "    std = np.std(series, ddof=1)\n",
    "    \n",
    "    return np.abs(USL-mean) / (3*std)"
   ]
  },
  {
   "cell_type": "markdown",
   "metadata": {},
   "source": [
    "#### Confidence intervals for indices\n",
    "Assuming normally distributed process data, the distribution of the sample $\\hat{C}_\\mathrm{p}$ follows from a Chi-square distribution and $\\hat{C}_\\mathrm{pu}$ and $\\hat{C}_\\mathrm{pl}$ have distributions related to the non-central *t* distribution. Fortunately, approximate confidence limits related to the normal distribution have been derived. Various approximations to the distribution of $\\hat{C}_\\mathrm{pk}$ have been proposed, including those given by Bissell (1990), and we will use a normal approximation.\n",
    "\n",
    "The resulting formulas for $100(1−\\alpha)\\%$ confidence limits are given below.\n",
    "\n",
    "Confidence Limits for $\\hat{C}_\\mathrm{p}$ are\n",
    "$$C_\\mathrm{p}\\text{ (lower) }=\\hat{C}_\\mathrm{p}\\sqrt{\\frac{\\chi^2_{\\alpha/2,\\nu}}{\\nu}}$$\n",
    "and\n",
    "$$C_\\mathrm{p}\\text{ (upper) }=\\hat{C}_\\mathrm{p}\\sqrt{\\frac{\\chi^2_{1-\\alpha/2,\\nu}}{\\nu}},$$\n",
    "where $\\nu$ = degrees of freedom."
   ]
  },
  {
   "cell_type": "code",
   "execution_count": 13,
   "metadata": {},
   "outputs": [],
   "source": [
    "def Cp_CI(alpha, series, LSL, USL):\n",
    "    mean = np.mean(series)\n",
    "    std = np.std(series, ddof=1)\n",
    "    dof = len(series) - 1\n",
    "    \n",
    "    Cp = np.abs(USL-LSL) / (6*std)\n",
    "    \n",
    "    Cp_lower = Cp * np.sqrt(stats.chi2.ppf(alpha/2, dof)/dof)\n",
    "    Cp_upper = Cp * np.sqrt(stats.chi2.ppf(1-alpha/2, dof)/dof)\n",
    "    \n",
    "    return Cp_lower, Cp_upper"
   ]
  },
  {
   "cell_type": "markdown",
   "metadata": {},
   "source": [
    "#### Confidence Intervals for $C_\\mathrm{pu}$ and $C_\\mathrm{pl}$\n",
    "Approximate $100(1−\\alpha)\\%$ confidence limits for $C_\\mathrm{pu}$ with sample size *n* are\n",
    "$$C_\\mathrm{pu}\\text{ (lower) }=\\hat{C}_\\mathrm{pu}-z_{1-\\beta}\\sqrt{\\frac{1}{9n}+\\frac{\\hat{C}^2_\\mathrm{pu}}{2(n-1)}}$$\n",
    "and\n",
    "$$C_\\mathrm{pu}\\text{ (upper) }=\\hat{C}_\\mathrm{pu}+z_{1-\\alpha}\\sqrt{\\frac{1}{9n}+\\frac{\\hat{C}^2_\\mathrm{pu}}{2(n-1)}},$$\n",
    "with *z* denoting the percent point function of the standard normal distribution. If $\\beta$ is not known, set it to $\\alpha$.\n",
    "\n",
    "Limits for $C_\\mathrm{pl}$ are obtained by replacing $\\hat{C}_\\mathrm{pu}$ by $\\hat{C}_\\mathrm{pl}$."
   ]
  },
  {
   "cell_type": "code",
   "execution_count": 14,
   "metadata": {},
   "outputs": [],
   "source": [
    "def Cpu_CI(alpha, series, USL):\n",
    "    mean = np.mean(series)\n",
    "    std = np.std(series, ddof=1)\n",
    "    n = len(series)\n",
    "    \n",
    "    Cpu = np.abs(USL-mean) / (3*std)\n",
    "    \n",
    "    Cpu_lower = Cpu - stats.norm.ppf(1-alpha) * np.sqrt(1/(9*n) + Cpu**2/(2*(n-1)))\n",
    "    Cpu_upper = Cpu + stats.norm.ppf(1-alpha) * np.sqrt(1/(9*n) + Cpu**2/(2*(n-1)))\n",
    "    \n",
    "    return Cpu_lower, Cpu_upper\n",
    "\n",
    "\n",
    "def Cpl_CI(alpha, series, LSL):\n",
    "    mean = np.mean(series)\n",
    "    std = np.std(series, ddof=1)\n",
    "    n = len(series)\n",
    "    \n",
    "    Cpl = np.abs(mean-LSL) / (3*std)\n",
    "    \n",
    "    Cpl_lower = Cpl - stats.norm.ppf(1-alpha) * np.sqrt(1/(9*n) + Cpl**2/(2*(n-1)))\n",
    "    Cpl_upper = Cpl + stats.norm.ppf(1-alpha) * np.sqrt(1/(9*n) + Cpl**2/(2*(n-1)))\n",
    "    \n",
    "    return Cpl_lower, Cpl_upper"
   ]
  },
  {
   "cell_type": "markdown",
   "metadata": {},
   "source": [
    "#### Confidence Interval for $C_\\mathrm{pk}$\n",
    "The following approximation is commonly used in practice\n",
    "$$C_\\mathrm{pk}=\\hat{C}_\\mathrm{pk}\\pm z_{1-\\alpha/2}\\sqrt{\\frac{1}{9n}+\\frac{\\hat{C}^2_\\mathrm{pk}}{2(n-1)}}.$$\n",
    "\n",
    "It is important to note that the sample size should be at least 25 before these approximations are valid. In general, however, we need $n\\ge 100$ for capability studies. Another point to observe is that variations are not negligible due to the randomness of capability indices. "
   ]
  },
  {
   "cell_type": "code",
   "execution_count": 15,
   "metadata": {},
   "outputs": [],
   "source": [
    "def Cpk_CI(alpha, series, LSL, USL):\n",
    "    mean = np.mean(series)\n",
    "    std = np.std(series, ddof=1)\n",
    "    n = len(series)\n",
    "    \n",
    "    Cpk = min(np.abs(mean-LSL), np.abs(USL-mean)) / (3*std)\n",
    "    \n",
    "    Cpk_lower = Cpk - stats.norm.ppf(1-alpha/2) * np.sqrt(1/(9*n) + Cpk**2/(2*(n-1)))\n",
    "    Cpk_upper = Cpk + stats.norm.ppf(1-alpha/2) * np.sqrt(1/(9*n) + Cpk**2/(2*(n-1)))\n",
    "    \n",
    "    return Cpk_lower, Cpk_upper"
   ]
  },
  {
   "cell_type": "markdown",
   "metadata": {},
   "source": [
    "#### Confidence Interval for $C_\\mathrm{pm}$\n",
    "Minitab calculates the $100(1-\\alpha)\\%$ two-sided confidence interval for $C_\\mathrm{pm}$ as follows:\n",
    "\n",
    "$$C_\\mathrm{pm}\\text{ (lower) }=\\hat{C}_\\mathrm{pm}\\sqrt{\\frac{\\chi^2_{\\alpha/2, \\nu}}{\\nu}}$$\n",
    "\n",
    "$$C_\\mathrm{pm}\\text{ (upper) }=\\hat{C}_\\mathrm{pm}\\sqrt{\\frac{\\chi^2_{1-\\alpha/2, \\nu}}{\\nu}}$$\n",
    "\n",
    "The $100(1-\\alpha)\\%$ lower confidence bound for $C_\\mathrm{pm}$ is calculated as follows:\n",
    "\n",
    "$$C_\\mathrm{pm}\\text{ (lower) }=\\hat{C}_\\mathrm{pm}\\sqrt{\\frac{\\chi^2_{\\alpha, \\nu}}{\\nu}}$$\n",
    "\n",
    "Where\n",
    "\n",
    "$\\chi^2_{\\alpha, \\nu}$ = $\\alpha$ quantile of the Chi-square distribution with $\\nu$ degrees of freedom;\n",
    "\n",
    "$\\nu$ = degrees of freedom, defined as $\\frac{(1+a^2))^2}{1+2a^2}N$;\n",
    "\n",
    "*a* = $\\frac{\\text{mean }-\\text{ target}}{s}$;\n",
    "\n",
    "$\\alpha$ = alpha for the confidence level;\n",
    "\n",
    "*N* = total number of observations."
   ]
  },
  {
   "cell_type": "code",
   "execution_count": 16,
   "metadata": {},
   "outputs": [],
   "source": [
    "def Cpm_CI(alpha, series, USL, LSL, target):\n",
    "    mean = np.mean(series)\n",
    "    std = np.std(series, ddof=1)\n",
    "    n = len(series)\n",
    "    \n",
    "    Cpm = np.abs(USL-LSL) / (6 * np.sqrt(std**2 + (mean-target)**2))\n",
    "    \n",
    "    a = (mean-target) / std\n",
    "    dof = n * (1+a**2)**2 / (1+2*a**2)\n",
    "    \n",
    "    Cpm_lower = Cpm * np.sqrt(stats.chi2.ppf(alpha/2, dof)/dof)\n",
    "    Cpm_upper = Cpm * np.sqrt(stats.chi2.ppf(1-alpha/2, dof)/dof)\n",
    "    \n",
    "    return Cpm_lower, Cpm_upper"
   ]
  },
  {
   "cell_type": "markdown",
   "metadata": {},
   "source": [
    "#### What happens if the process is not approximately normally distributed?\n",
    "The indices that we considered thus far are based on normality of the process distribution. This poses a problem when the process distribution is not normal. Without going into the specifics, we can list some remedies.\n",
    "\n",
    "1. Transform the data so that they become approximately normal. A popular transformation is the [Box-Cox transformation](https://www.itl.nist.gov/div898/handbook/pmc/section5/pmc52.htm#Box-Cox);\n",
    "\n",
    "\n",
    "2. Use or develop another set of indices, that apply to nonnormal distributions. Non-parameteric versions (Pearn, Tai, Hsiao, and Ao (2014) and Chen and Ding (2001)) of the $C_\\mathrm{p}$, $C_\\mathrm{pk}$, and $C_\\mathrm{pm}$ capability indices are denoted by $C_\\mathrm{np}$, $C_\\mathrm{npk}$, and $C_\\mathrm{npm}$. Estimators for these non-parameteric capability indices are calculated by\n",
    "\n",
    "$$\\hat{C}_\\mathrm{np}=\\frac{USL-LSL}{p(0.99865)-p(0.00135)}$$\n",
    "\n",
    "$$\\hat{C}_\\mathrm{npk} = \\frac{\\mathrm{min}(USL-\\mathrm{median},\\mathrm{median}-LSL)}{\\frac{p(0.99865) - p(0.00135)}{2}}$$\n",
    "\n",
    "$$\\hat{C}_\\mathrm{npm}=\\frac{USL-LSL}{6\\sqrt{\\left(\\frac{p(0.99865)-p(0.00135)}{6}\\right)^2+(\\mathrm{median}-T)^2}}$$\n",
    "\n",
    "where *p*(0.99855) is the 99.865th percentile of the data and *p*(0.00135) is the 0.135th percentile of the data. The use of these percentiles is justified to mimic the coverage of $\\pm$3 standard deviations for the normal distribution.\n",
    "\n",
    "There is, of course, much more that can be said about the case of nonnormal data. However, if a Box-Cox transformation can be successfully performed, one is encouraged to use it.\n",
    "\n",
    "### Capability Index Statistics"
   ]
  },
  {
   "cell_type": "code",
   "execution_count": 17,
   "metadata": {},
   "outputs": [
    {
     "name": "stdout",
     "output_type": "stream",
     "text": [
      "Cp = 1.3131279994765481\n",
      "Confidence interval for Cp = (1.1723440682376152, 1.4537207241615353)\n"
     ]
    }
   ],
   "source": [
    "print(\"Cp =\", Cp(df[\"THICKNESS\"], lsl, usl))\n",
    "print(\"Confidence interval for Cp =\", Cp_CI(0.05, df[\"THICKNESS\"], lsl, usl))"
   ]
  },
  {
   "cell_type": "code",
   "execution_count": 18,
   "metadata": {},
   "outputs": [
    {
     "name": "stdout",
     "output_type": "stream",
     "text": [
      "Cpk = 1.2732651852067236\n",
      "Confidence interval for Cpk = (1.1277085876009219, 1.4188217828125254)\n"
     ]
    }
   ],
   "source": [
    "print(\"Cpk =\", Cpk(df[\"THICKNESS\"], lsl, usl))\n",
    "print(\"Confidence interval for Cpk =\", Cpk_CI(0.05, df[\"THICKNESS\"], lsl, usl))"
   ]
  },
  {
   "cell_type": "code",
   "execution_count": 19,
   "metadata": {},
   "outputs": [
    {
     "name": "stdout",
     "output_type": "stream",
     "text": [
      "Cpm = 1.30383774770243\n",
      "Confidence interval for Cpm = (1.1644797612168922, 1.4430069471969749)\n"
     ]
    }
   ],
   "source": [
    "print(\"Cpm =\", Cpm(df[\"THICKNESS\"], lsl, usl, target))\n",
    "print(\"Confidence interval for Cpm =\", Cpm_CI(0.05, df[\"THICKNESS\"], lsl, usl, target))"
   ]
  },
  {
   "cell_type": "code",
   "execution_count": 20,
   "metadata": {},
   "outputs": [
    {
     "name": "stdout",
     "output_type": "stream",
     "text": [
      "Cpl = 1.3529908137463724\n",
      "Confidence interval for Cpl = (1.2240803859909326, 1.4819012415018122)\n"
     ]
    }
   ],
   "source": [
    "print(\"Cpl =\", Cpl(df[\"THICKNESS\"], lsl))\n",
    "print(\"Confidence interval for Cpl =\", Cpl_CI(0.05, df[\"THICKNESS\"], lsl))"
   ]
  },
  {
   "cell_type": "code",
   "execution_count": 21,
   "metadata": {},
   "outputs": [
    {
     "name": "stdout",
     "output_type": "stream",
     "text": [
      "Cpu = 1.2732651852067236\n",
      "Confidence interval for Cpu = (1.1511102377754812, 1.395420132637966)\n"
     ]
    }
   ],
   "source": [
    "print(\"Cpu =\", Cpu(df[\"THICKNESS\"], usl))\n",
    "print(\"Confidence interval for Cpu =\", Cpu_CI(0.05, df[\"THICKNESS\"], usl))"
   ]
  },
  {
   "cell_type": "markdown",
   "metadata": {},
   "source": [
    "The above capability analysis indicates that the process is capable and we can proceed with the analysis.\n",
    "\n",
    "---\n",
    "\n",
    "## <a name=\"sources_of_variation\"></a>Identify Sources of Variation"
   ]
  },
  {
   "cell_type": "code",
   "execution_count": null,
   "metadata": {},
   "outputs": [],
   "source": []
  }
 ],
 "metadata": {
  "kernelspec": {
   "display_name": "Python 3",
   "language": "python",
   "name": "python3"
  },
  "language_info": {
   "codemirror_mode": {
    "name": "ipython",
    "version": 3
   },
   "file_extension": ".py",
   "mimetype": "text/x-python",
   "name": "python",
   "nbconvert_exporter": "python",
   "pygments_lexer": "ipython3",
   "version": "3.7.4"
  }
 },
 "nbformat": 4,
 "nbformat_minor": 2
}
